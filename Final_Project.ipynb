{
 "cells": [
  {
   "cell_type": "markdown",
   "metadata": {},
   "source": [
    "# Getting the Data"
   ]
  },
  {
   "cell_type": "markdown",
   "metadata": {},
   "source": [
    "The datasets consist of shelter data from the Austin's Animal Center's shelter. It consists of two seperate tables: one with the animals initial condition upon being recieved by the shelter and one with the animals outcome. The data is live and updated daily."
   ]
  },
  {
   "cell_type": "code",
   "execution_count": 2,
   "metadata": {},
   "outputs": [],
   "source": [
    "#download the data as a csv file in the current directory\n",
    "# Since this file is large and we don't want to download data all the time\n",
    "# this code was run last at (12/2)\n",
    "import requests\n",
    "import os\n",
    "\n",
    "#give a big limit request to download all the shelter data\n",
    "intake_url =  'https://data.austintexas.gov/resource/wter-evkm.csv?$limit=99999999999999999'\n",
    "outcomes_url = 'https://data.austintexas.gov/resource/9t4d-g238.csv?$limit=99999999999999999'\n",
    "\n",
    "\n",
    "response = requests.get(intake_url)\n",
    "with open(os.path.join(\"intakes.csv\"), 'wb') as f:\n",
    "    f.write(response.content)\n",
    "\n",
    "response = requests.get(outcomes_url)\n",
    "with open(os.path.join(\"outcomes.csv\"), 'wb') as f:\n",
    "    f.write(response.content)"
   ]
  },
  {
   "cell_type": "code",
   "execution_count": 1,
   "metadata": {},
   "outputs": [],
   "source": [
    "import pandas as pd\n",
    "import numpy as np\n",
    "import csv\n",
    "from datetime import datetime"
   ]
  },
  {
   "cell_type": "code",
   "execution_count": null,
   "metadata": {},
   "outputs": [],
   "source": []
  },
  {
   "cell_type": "code",
   "execution_count": 2,
   "metadata": {},
   "outputs": [],
   "source": [
    "#read downloaded csvs\n",
    "intakes = pd.read_csv(\"intakes.csv\")\n",
    "outcomes = pd.read_csv(\"outcomes.csv\")"
   ]
  },
  {
   "cell_type": "markdown",
   "metadata": {},
   "source": [
    "# Basic Exploration"
   ]
  },
  {
   "cell_type": "code",
   "execution_count": 3,
   "metadata": {},
   "outputs": [
    {
     "data": {
      "text/html": [
       "<div>\n",
       "<style scoped>\n",
       "    .dataframe tbody tr th:only-of-type {\n",
       "        vertical-align: middle;\n",
       "    }\n",
       "\n",
       "    .dataframe tbody tr th {\n",
       "        vertical-align: top;\n",
       "    }\n",
       "\n",
       "    .dataframe thead th {\n",
       "        text-align: right;\n",
       "    }\n",
       "</style>\n",
       "<table border=\"1\" class=\"dataframe\">\n",
       "  <thead>\n",
       "    <tr style=\"text-align: right;\">\n",
       "      <th></th>\n",
       "      <th>animal_id</th>\n",
       "      <th>name</th>\n",
       "      <th>datetime</th>\n",
       "      <th>datetime2</th>\n",
       "      <th>found_location</th>\n",
       "      <th>intake_type</th>\n",
       "      <th>intake_condition</th>\n",
       "      <th>animal_type</th>\n",
       "      <th>sex_upon_intake</th>\n",
       "      <th>age_upon_intake</th>\n",
       "      <th>breed</th>\n",
       "      <th>color</th>\n",
       "    </tr>\n",
       "  </thead>\n",
       "  <tbody>\n",
       "    <tr>\n",
       "      <th>0</th>\n",
       "      <td>A869978</td>\n",
       "      <td>NaN</td>\n",
       "      <td>2022-11-29T07:04:00.000</td>\n",
       "      <td>2022-11-29T07:04:00.000</td>\n",
       "      <td>14236 Fm 969 in Travis (TX)</td>\n",
       "      <td>Stray</td>\n",
       "      <td>Sick</td>\n",
       "      <td>Dog</td>\n",
       "      <td>Intact Male</td>\n",
       "      <td>1 month</td>\n",
       "      <td>Cane Corso</td>\n",
       "      <td>Black</td>\n",
       "    </tr>\n",
       "    <tr>\n",
       "      <th>1</th>\n",
       "      <td>A869965</td>\n",
       "      <td>NaN</td>\n",
       "      <td>2022-11-28T19:00:00.000</td>\n",
       "      <td>2022-11-28T19:00:00.000</td>\n",
       "      <td>6704 Branrust Dr in Austin (TX)</td>\n",
       "      <td>Stray</td>\n",
       "      <td>Injured</td>\n",
       "      <td>Cat</td>\n",
       "      <td>Unknown</td>\n",
       "      <td>2 years</td>\n",
       "      <td>Domestic Shorthair</td>\n",
       "      <td>Orange Tabby/White</td>\n",
       "    </tr>\n",
       "    <tr>\n",
       "      <th>2</th>\n",
       "      <td>A869969</td>\n",
       "      <td>Biji</td>\n",
       "      <td>2022-11-28T18:56:00.000</td>\n",
       "      <td>2022-11-28T18:56:00.000</td>\n",
       "      <td>Austin (TX)</td>\n",
       "      <td>Owner Surrender</td>\n",
       "      <td>Normal</td>\n",
       "      <td>Cat</td>\n",
       "      <td>Neutered Male</td>\n",
       "      <td>1 year</td>\n",
       "      <td>Domestic Longhair</td>\n",
       "      <td>Blue/White</td>\n",
       "    </tr>\n",
       "    <tr>\n",
       "      <th>3</th>\n",
       "      <td>A869967</td>\n",
       "      <td>NaN</td>\n",
       "      <td>2022-11-28T18:46:00.000</td>\n",
       "      <td>2022-11-28T18:46:00.000</td>\n",
       "      <td>1309 Walnut Avenue in Travis (TX)</td>\n",
       "      <td>Stray</td>\n",
       "      <td>Normal</td>\n",
       "      <td>Cat</td>\n",
       "      <td>Intact Female</td>\n",
       "      <td>1 year</td>\n",
       "      <td>Domestic Shorthair</td>\n",
       "      <td>Brown Tabby/White</td>\n",
       "    </tr>\n",
       "    <tr>\n",
       "      <th>4</th>\n",
       "      <td>A869968</td>\n",
       "      <td>NaN</td>\n",
       "      <td>2022-11-28T18:32:00.000</td>\n",
       "      <td>2022-11-28T18:32:00.000</td>\n",
       "      <td>11210 Ranch To Market 222 in Austin (TX)</td>\n",
       "      <td>Owner Surrender</td>\n",
       "      <td>Normal</td>\n",
       "      <td>Dog</td>\n",
       "      <td>Unknown</td>\n",
       "      <td>2 years</td>\n",
       "      <td>Miniature Schnauzer</td>\n",
       "      <td>Black</td>\n",
       "    </tr>\n",
       "  </tbody>\n",
       "</table>\n",
       "</div>"
      ],
      "text/plain": [
       "  animal_id  name                 datetime                datetime2  \\\n",
       "0   A869978   NaN  2022-11-29T07:04:00.000  2022-11-29T07:04:00.000   \n",
       "1   A869965   NaN  2022-11-28T19:00:00.000  2022-11-28T19:00:00.000   \n",
       "2   A869969  Biji  2022-11-28T18:56:00.000  2022-11-28T18:56:00.000   \n",
       "3   A869967   NaN  2022-11-28T18:46:00.000  2022-11-28T18:46:00.000   \n",
       "4   A869968   NaN  2022-11-28T18:32:00.000  2022-11-28T18:32:00.000   \n",
       "\n",
       "                             found_location      intake_type intake_condition  \\\n",
       "0               14236 Fm 969 in Travis (TX)            Stray             Sick   \n",
       "1           6704 Branrust Dr in Austin (TX)            Stray          Injured   \n",
       "2                               Austin (TX)  Owner Surrender           Normal   \n",
       "3         1309 Walnut Avenue in Travis (TX)            Stray           Normal   \n",
       "4  11210 Ranch To Market 222 in Austin (TX)  Owner Surrender           Normal   \n",
       "\n",
       "  animal_type sex_upon_intake age_upon_intake                breed  \\\n",
       "0         Dog     Intact Male         1 month           Cane Corso   \n",
       "1         Cat         Unknown         2 years   Domestic Shorthair   \n",
       "2         Cat   Neutered Male          1 year    Domestic Longhair   \n",
       "3         Cat   Intact Female          1 year   Domestic Shorthair   \n",
       "4         Dog         Unknown         2 years  Miniature Schnauzer   \n",
       "\n",
       "                color  \n",
       "0               Black  \n",
       "1  Orange Tabby/White  \n",
       "2          Blue/White  \n",
       "3   Brown Tabby/White  \n",
       "4               Black  "
      ]
     },
     "execution_count": 3,
     "metadata": {},
     "output_type": "execute_result"
    }
   ],
   "source": [
    "intakes.head()"
   ]
  },
  {
   "cell_type": "markdown",
   "metadata": {},
   "source": [
    "Most of the columns are self explanatory. Note that we have two datetime columns that appear identical. "
   ]
  },
  {
   "cell_type": "code",
   "execution_count": 4,
   "metadata": {},
   "outputs": [
    {
     "data": {
      "text/html": [
       "<div>\n",
       "<style scoped>\n",
       "    .dataframe tbody tr th:only-of-type {\n",
       "        vertical-align: middle;\n",
       "    }\n",
       "\n",
       "    .dataframe tbody tr th {\n",
       "        vertical-align: top;\n",
       "    }\n",
       "\n",
       "    .dataframe thead th {\n",
       "        text-align: right;\n",
       "    }\n",
       "</style>\n",
       "<table border=\"1\" class=\"dataframe\">\n",
       "  <thead>\n",
       "    <tr style=\"text-align: right;\">\n",
       "      <th></th>\n",
       "      <th>animal_id</th>\n",
       "      <th>name</th>\n",
       "      <th>datetime</th>\n",
       "      <th>monthyear</th>\n",
       "      <th>date_of_birth</th>\n",
       "      <th>outcome_type</th>\n",
       "      <th>outcome_subtype</th>\n",
       "      <th>animal_type</th>\n",
       "      <th>sex_upon_outcome</th>\n",
       "      <th>age_upon_outcome</th>\n",
       "      <th>breed</th>\n",
       "      <th>color</th>\n",
       "    </tr>\n",
       "  </thead>\n",
       "  <tbody>\n",
       "    <tr>\n",
       "      <th>0</th>\n",
       "      <td>A869752</td>\n",
       "      <td>NaN</td>\n",
       "      <td>2022-11-29T05:00:00.000</td>\n",
       "      <td>2022-11-29T05:00:00.000</td>\n",
       "      <td>2012-11-23T00:00:00.000</td>\n",
       "      <td>Died</td>\n",
       "      <td>At Vet</td>\n",
       "      <td>Cat</td>\n",
       "      <td>Intact Male</td>\n",
       "      <td>10 years</td>\n",
       "      <td>Domestic Shorthair</td>\n",
       "      <td>Orange Tabby/White</td>\n",
       "    </tr>\n",
       "    <tr>\n",
       "      <th>1</th>\n",
       "      <td>A869596</td>\n",
       "      <td>NaN</td>\n",
       "      <td>2022-11-29T00:00:00.000</td>\n",
       "      <td>2022-11-29T00:00:00.000</td>\n",
       "      <td>2019-11-21T00:00:00.000</td>\n",
       "      <td>Adoption</td>\n",
       "      <td>NaN</td>\n",
       "      <td>Dog</td>\n",
       "      <td>Intact Male</td>\n",
       "      <td>3 years</td>\n",
       "      <td>Schipperke/Cardigan Welsh Corgi</td>\n",
       "      <td>Black</td>\n",
       "    </tr>\n",
       "    <tr>\n",
       "      <th>2</th>\n",
       "      <td>A861295</td>\n",
       "      <td>*Gordon</td>\n",
       "      <td>2022-11-28T19:12:00.000</td>\n",
       "      <td>2022-11-28T19:12:00.000</td>\n",
       "      <td>2022-05-05T00:00:00.000</td>\n",
       "      <td>Adoption</td>\n",
       "      <td>NaN</td>\n",
       "      <td>Dog</td>\n",
       "      <td>Neutered Male</td>\n",
       "      <td>6 months</td>\n",
       "      <td>Labrador Retriever/Pointer</td>\n",
       "      <td>Black/White</td>\n",
       "    </tr>\n",
       "    <tr>\n",
       "      <th>3</th>\n",
       "      <td>A869713</td>\n",
       "      <td>Princess</td>\n",
       "      <td>2022-11-28T18:57:00.000</td>\n",
       "      <td>2022-11-28T18:57:00.000</td>\n",
       "      <td>2017-11-28T00:00:00.000</td>\n",
       "      <td>Return to Owner</td>\n",
       "      <td>NaN</td>\n",
       "      <td>Dog</td>\n",
       "      <td>Intact Female</td>\n",
       "      <td>5 years</td>\n",
       "      <td>Pit Bull</td>\n",
       "      <td>Blue/White</td>\n",
       "    </tr>\n",
       "    <tr>\n",
       "      <th>4</th>\n",
       "      <td>A864284</td>\n",
       "      <td>*Sparkle</td>\n",
       "      <td>2022-11-28T18:45:00.000</td>\n",
       "      <td>2022-11-28T18:45:00.000</td>\n",
       "      <td>2020-03-23T00:00:00.000</td>\n",
       "      <td>Adoption</td>\n",
       "      <td>NaN</td>\n",
       "      <td>Dog</td>\n",
       "      <td>Spayed Female</td>\n",
       "      <td>2 years</td>\n",
       "      <td>Pit Bull</td>\n",
       "      <td>Brown Brindle</td>\n",
       "    </tr>\n",
       "  </tbody>\n",
       "</table>\n",
       "</div>"
      ],
      "text/plain": [
       "  animal_id      name                 datetime                monthyear  \\\n",
       "0   A869752       NaN  2022-11-29T05:00:00.000  2022-11-29T05:00:00.000   \n",
       "1   A869596       NaN  2022-11-29T00:00:00.000  2022-11-29T00:00:00.000   \n",
       "2   A861295   *Gordon  2022-11-28T19:12:00.000  2022-11-28T19:12:00.000   \n",
       "3   A869713  Princess  2022-11-28T18:57:00.000  2022-11-28T18:57:00.000   \n",
       "4   A864284  *Sparkle  2022-11-28T18:45:00.000  2022-11-28T18:45:00.000   \n",
       "\n",
       "             date_of_birth     outcome_type outcome_subtype animal_type  \\\n",
       "0  2012-11-23T00:00:00.000             Died          At Vet         Cat   \n",
       "1  2019-11-21T00:00:00.000         Adoption             NaN         Dog   \n",
       "2  2022-05-05T00:00:00.000         Adoption             NaN         Dog   \n",
       "3  2017-11-28T00:00:00.000  Return to Owner             NaN         Dog   \n",
       "4  2020-03-23T00:00:00.000         Adoption             NaN         Dog   \n",
       "\n",
       "  sex_upon_outcome age_upon_outcome                            breed  \\\n",
       "0      Intact Male         10 years               Domestic Shorthair   \n",
       "1      Intact Male          3 years  Schipperke/Cardigan Welsh Corgi   \n",
       "2    Neutered Male         6 months       Labrador Retriever/Pointer   \n",
       "3    Intact Female          5 years                         Pit Bull   \n",
       "4    Spayed Female          2 years                         Pit Bull   \n",
       "\n",
       "                color  \n",
       "0  Orange Tabby/White  \n",
       "1               Black  \n",
       "2         Black/White  \n",
       "3          Blue/White  \n",
       "4       Brown Brindle  "
      ]
     },
     "execution_count": 4,
     "metadata": {},
     "output_type": "execute_result"
    }
   ],
   "source": [
    "outcomes.head()"
   ]
  },
  {
   "cell_type": "markdown",
   "metadata": {},
   "source": [
    "Outcome types include: \n",
    "<ul>\n",
    " <li>Adoption - animal adopted to a home</li>\n",
    " <li>Barn Adoption - animal adopted to a barn</li>\n",
    " <li>Offsite Missing - animal went missing at an offsite location</li>\n",
    " <li>In-Foster Missing - animal went missing from a foster home</li>\n",
    " <li>In-Kennel Missing - animal went missing from a kennel facility</li>\n",
    " <li>Possible Theft - animal may have been stolen from the shelter</li>\n",
    " <li>Barn Transfer - animal was transfered to a barn adoption facility</li>\n",
    " <li>SNR - released through Austin's Shelter-Neuter-Release program </li>\n",
    " </ul>"
   ]
  },
  {
   "cell_type": "code",
   "execution_count": 5,
   "metadata": {},
   "outputs": [
    {
     "name": "stdout",
     "output_type": "stream",
     "text": [
      "True\n",
      "True\n"
     ]
    }
   ],
   "source": [
    "print(intakes['datetime'].equals(intakes['datetime2']))\n",
    "print((outcomes['datetime'].equals(outcomes['monthyear'])))"
   ]
  },
  {
   "cell_type": "markdown",
   "metadata": {},
   "source": [
    "Date columns are the same. Lets remove them."
   ]
  },
  {
   "cell_type": "code",
   "execution_count": 6,
   "metadata": {},
   "outputs": [],
   "source": [
    "intakes.drop('datetime2', inplace= True, axis = 1)\n",
    "outcomes.drop('monthyear', inplace= True, axis = 1)"
   ]
  },
  {
   "cell_type": "code",
   "execution_count": 7,
   "metadata": {},
   "outputs": [
    {
     "name": "stdout",
     "output_type": "stream",
     "text": [
      "146162\n",
      "146240\n"
     ]
    }
   ],
   "source": [
    "#number of rows in each\n",
    "print(len(intakes))\n",
    "print(len(outcomes))"
   ]
  },
  {
   "cell_type": "markdown",
   "metadata": {},
   "source": [
    " Oddly, there are more outcomes than intakes. Shouldn't it be the other way around?"
   ]
  },
  {
   "cell_type": "code",
   "execution_count": 8,
   "metadata": {},
   "outputs": [
    {
     "name": "stdout",
     "output_type": "stream",
     "text": [
      "253\n",
      "209\n"
     ]
    }
   ],
   "source": [
    "print(intakes[intakes.duplicated()].size)\n",
    "print(outcomes[outcomes.duplicated()].size)"
   ]
  },
  {
   "cell_type": "code",
   "execution_count": 9,
   "metadata": {},
   "outputs": [
    {
     "data": {
      "text/html": [
       "<div>\n",
       "<style scoped>\n",
       "    .dataframe tbody tr th:only-of-type {\n",
       "        vertical-align: middle;\n",
       "    }\n",
       "\n",
       "    .dataframe tbody tr th {\n",
       "        vertical-align: top;\n",
       "    }\n",
       "\n",
       "    .dataframe thead th {\n",
       "        text-align: right;\n",
       "    }\n",
       "</style>\n",
       "<table border=\"1\" class=\"dataframe\">\n",
       "  <thead>\n",
       "    <tr style=\"text-align: right;\">\n",
       "      <th></th>\n",
       "      <th>animal_id</th>\n",
       "      <th>name</th>\n",
       "      <th>datetime</th>\n",
       "      <th>found_location</th>\n",
       "      <th>intake_type</th>\n",
       "      <th>intake_condition</th>\n",
       "      <th>animal_type</th>\n",
       "      <th>sex_upon_intake</th>\n",
       "      <th>age_upon_intake</th>\n",
       "      <th>breed</th>\n",
       "      <th>color</th>\n",
       "    </tr>\n",
       "  </thead>\n",
       "  <tbody>\n",
       "    <tr>\n",
       "      <th>6823</th>\n",
       "      <td>A857222</td>\n",
       "      <td>Keanu</td>\n",
       "      <td>2022-05-13T13:58:00.000</td>\n",
       "      <td>1800 S Ih 35 in Austin (TX)</td>\n",
       "      <td>Owner Surrender</td>\n",
       "      <td>Normal</td>\n",
       "      <td>Other</td>\n",
       "      <td>Intact Male</td>\n",
       "      <td>8 months</td>\n",
       "      <td>Guinea Pig</td>\n",
       "      <td>White/Gray</td>\n",
       "    </tr>\n",
       "    <tr>\n",
       "      <th>6824</th>\n",
       "      <td>A857222</td>\n",
       "      <td>Keanu</td>\n",
       "      <td>2022-05-13T13:58:00.000</td>\n",
       "      <td>1800 S Ih 35 in Austin (TX)</td>\n",
       "      <td>Owner Surrender</td>\n",
       "      <td>Normal</td>\n",
       "      <td>Other</td>\n",
       "      <td>Intact Male</td>\n",
       "      <td>8 months</td>\n",
       "      <td>Guinea Pig</td>\n",
       "      <td>White/Gray</td>\n",
       "    </tr>\n",
       "  </tbody>\n",
       "</table>\n",
       "</div>"
      ],
      "text/plain": [
       "     animal_id   name                 datetime               found_location  \\\n",
       "6823   A857222  Keanu  2022-05-13T13:58:00.000  1800 S Ih 35 in Austin (TX)   \n",
       "6824   A857222  Keanu  2022-05-13T13:58:00.000  1800 S Ih 35 in Austin (TX)   \n",
       "\n",
       "          intake_type intake_condition animal_type sex_upon_intake  \\\n",
       "6823  Owner Surrender           Normal       Other     Intact Male   \n",
       "6824  Owner Surrender           Normal       Other     Intact Male   \n",
       "\n",
       "     age_upon_intake       breed       color  \n",
       "6823        8 months  Guinea Pig  White/Gray  \n",
       "6824        8 months  Guinea Pig  White/Gray  "
      ]
     },
     "execution_count": 9,
     "metadata": {},
     "output_type": "execute_result"
    }
   ],
   "source": [
    "intakes[intakes['animal_id'] == 'A857222']"
   ]
  },
  {
   "cell_type": "markdown",
   "metadata": {},
   "source": [
    "It also appears that some observations are entirely duplicated. Let's fix that."
   ]
  },
  {
   "cell_type": "code",
   "execution_count": 10,
   "metadata": {},
   "outputs": [],
   "source": [
    "intakes.drop_duplicates(inplace = True)\n",
    "outcomes.drop_duplicates(inplace = True)"
   ]
  },
  {
   "cell_type": "code",
   "execution_count": 11,
   "metadata": {},
   "outputs": [
    {
     "data": {
      "text/plain": [
       "146139"
      ]
     },
     "execution_count": 11,
     "metadata": {},
     "output_type": "execute_result"
    }
   ],
   "source": [
    "len(intakes)"
   ]
  },
  {
   "cell_type": "code",
   "execution_count": 12,
   "metadata": {},
   "outputs": [
    {
     "data": {
      "text/html": [
       "<div>\n",
       "<style scoped>\n",
       "    .dataframe tbody tr th:only-of-type {\n",
       "        vertical-align: middle;\n",
       "    }\n",
       "\n",
       "    .dataframe tbody tr th {\n",
       "        vertical-align: top;\n",
       "    }\n",
       "\n",
       "    .dataframe thead th {\n",
       "        text-align: right;\n",
       "    }\n",
       "</style>\n",
       "<table border=\"1\" class=\"dataframe\">\n",
       "  <thead>\n",
       "    <tr style=\"text-align: right;\">\n",
       "      <th></th>\n",
       "      <th>animal_id</th>\n",
       "      <th>name</th>\n",
       "      <th>datetime</th>\n",
       "      <th>found_location</th>\n",
       "      <th>intake_type</th>\n",
       "      <th>intake_condition</th>\n",
       "      <th>animal_type</th>\n",
       "      <th>sex_upon_intake</th>\n",
       "      <th>age_upon_intake</th>\n",
       "      <th>breed</th>\n",
       "      <th>color</th>\n",
       "    </tr>\n",
       "  </thead>\n",
       "  <tbody>\n",
       "    <tr>\n",
       "      <th>256</th>\n",
       "      <td>A869377</td>\n",
       "      <td>Henry</td>\n",
       "      <td>2022-11-17T13:35:00.000</td>\n",
       "      <td>810 E Slaughter Ln in Austin (TX)</td>\n",
       "      <td>Owner Surrender</td>\n",
       "      <td>Normal</td>\n",
       "      <td>Dog</td>\n",
       "      <td>Intact Male</td>\n",
       "      <td>8 months</td>\n",
       "      <td>Dachshund/Doberman Pinsch</td>\n",
       "      <td>Tricolor</td>\n",
       "    </tr>\n",
       "    <tr>\n",
       "      <th>518</th>\n",
       "      <td>A845526</td>\n",
       "      <td>Jackson</td>\n",
       "      <td>2022-11-08T18:05:00.000</td>\n",
       "      <td>Thunder Gulch Drive in Austin (TX)</td>\n",
       "      <td>Stray</td>\n",
       "      <td>Normal</td>\n",
       "      <td>Dog</td>\n",
       "      <td>Intact Male</td>\n",
       "      <td>1 year</td>\n",
       "      <td>Bull Terrier</td>\n",
       "      <td>White</td>\n",
       "    </tr>\n",
       "  </tbody>\n",
       "</table>\n",
       "</div>"
      ],
      "text/plain": [
       "    animal_id     name                 datetime  \\\n",
       "256   A869377    Henry  2022-11-17T13:35:00.000   \n",
       "518   A845526  Jackson  2022-11-08T18:05:00.000   \n",
       "\n",
       "                         found_location      intake_type intake_condition  \\\n",
       "256   810 E Slaughter Ln in Austin (TX)  Owner Surrender           Normal   \n",
       "518  Thunder Gulch Drive in Austin (TX)            Stray           Normal   \n",
       "\n",
       "    animal_type sex_upon_intake age_upon_intake                      breed  \\\n",
       "256         Dog     Intact Male        8 months  Dachshund/Doberman Pinsch   \n",
       "518         Dog     Intact Male          1 year               Bull Terrier   \n",
       "\n",
       "        color  \n",
       "256  Tricolor  \n",
       "518     White  "
      ]
     },
     "execution_count": 12,
     "metadata": {},
     "output_type": "execute_result"
    }
   ],
   "source": [
    "intakes[intakes['animal_id'].duplicated()].head(2)"
   ]
  },
  {
   "cell_type": "code",
   "execution_count": 13,
   "metadata": {},
   "outputs": [
    {
     "data": {
      "text/html": [
       "<div>\n",
       "<style scoped>\n",
       "    .dataframe tbody tr th:only-of-type {\n",
       "        vertical-align: middle;\n",
       "    }\n",
       "\n",
       "    .dataframe tbody tr th {\n",
       "        vertical-align: top;\n",
       "    }\n",
       "\n",
       "    .dataframe thead th {\n",
       "        text-align: right;\n",
       "    }\n",
       "</style>\n",
       "<table border=\"1\" class=\"dataframe\">\n",
       "  <thead>\n",
       "    <tr style=\"text-align: right;\">\n",
       "      <th></th>\n",
       "      <th>animal_id</th>\n",
       "      <th>name</th>\n",
       "      <th>datetime</th>\n",
       "      <th>found_location</th>\n",
       "      <th>intake_type</th>\n",
       "      <th>intake_condition</th>\n",
       "      <th>animal_type</th>\n",
       "      <th>sex_upon_intake</th>\n",
       "      <th>age_upon_intake</th>\n",
       "      <th>breed</th>\n",
       "      <th>color</th>\n",
       "    </tr>\n",
       "  </thead>\n",
       "  <tbody>\n",
       "    <tr>\n",
       "      <th>944</th>\n",
       "      <td>A867028</td>\n",
       "      <td>*Scooter</td>\n",
       "      <td>2022-10-25T18:20:00.000</td>\n",
       "      <td>Austin (TX)</td>\n",
       "      <td>Owner Surrender</td>\n",
       "      <td>Normal</td>\n",
       "      <td>Cat</td>\n",
       "      <td>Neutered Male</td>\n",
       "      <td>8 months</td>\n",
       "      <td>Domestic Shorthair Mix</td>\n",
       "      <td>Brown Tabby</td>\n",
       "    </tr>\n",
       "    <tr>\n",
       "      <th>1098</th>\n",
       "      <td>A867028</td>\n",
       "      <td>*Scooter</td>\n",
       "      <td>2022-10-19T16:45:00.000</td>\n",
       "      <td>Austin (TX)</td>\n",
       "      <td>Owner Surrender</td>\n",
       "      <td>Normal</td>\n",
       "      <td>Cat</td>\n",
       "      <td>Neutered Male</td>\n",
       "      <td>8 months</td>\n",
       "      <td>Domestic Shorthair Mix</td>\n",
       "      <td>Brown Tabby</td>\n",
       "    </tr>\n",
       "    <tr>\n",
       "      <th>1364</th>\n",
       "      <td>A867028</td>\n",
       "      <td>*Scooter</td>\n",
       "      <td>2022-10-11T11:16:00.000</td>\n",
       "      <td>21501 Quail Valley Cove in Travis (TX)</td>\n",
       "      <td>Stray</td>\n",
       "      <td>Normal</td>\n",
       "      <td>Cat</td>\n",
       "      <td>Intact Male</td>\n",
       "      <td>7 months</td>\n",
       "      <td>Domestic Shorthair Mix</td>\n",
       "      <td>Brown Tabby</td>\n",
       "    </tr>\n",
       "  </tbody>\n",
       "</table>\n",
       "</div>"
      ],
      "text/plain": [
       "     animal_id      name                 datetime  \\\n",
       "944    A867028  *Scooter  2022-10-25T18:20:00.000   \n",
       "1098   A867028  *Scooter  2022-10-19T16:45:00.000   \n",
       "1364   A867028  *Scooter  2022-10-11T11:16:00.000   \n",
       "\n",
       "                              found_location      intake_type  \\\n",
       "944                              Austin (TX)  Owner Surrender   \n",
       "1098                             Austin (TX)  Owner Surrender   \n",
       "1364  21501 Quail Valley Cove in Travis (TX)            Stray   \n",
       "\n",
       "     intake_condition animal_type sex_upon_intake age_upon_intake  \\\n",
       "944            Normal         Cat   Neutered Male        8 months   \n",
       "1098           Normal         Cat   Neutered Male        8 months   \n",
       "1364           Normal         Cat     Intact Male        7 months   \n",
       "\n",
       "                       breed        color  \n",
       "944   Domestic Shorthair Mix  Brown Tabby  \n",
       "1098  Domestic Shorthair Mix  Brown Tabby  \n",
       "1364  Domestic Shorthair Mix  Brown Tabby  "
      ]
     },
     "execution_count": 13,
     "metadata": {},
     "output_type": "execute_result"
    }
   ],
   "source": [
    "intakes[intakes['animal_id'] == 'A867028']"
   ]
  },
  {
   "cell_type": "markdown",
   "metadata": {},
   "source": [
    "Looks like some animals have passed through the shelter multiple times. "
   ]
  },
  {
   "cell_type": "code",
   "execution_count": 14,
   "metadata": {},
   "outputs": [
    {
     "data": {
      "text/html": [
       "<div>\n",
       "<style scoped>\n",
       "    .dataframe tbody tr th:only-of-type {\n",
       "        vertical-align: middle;\n",
       "    }\n",
       "\n",
       "    .dataframe tbody tr th {\n",
       "        vertical-align: top;\n",
       "    }\n",
       "\n",
       "    .dataframe thead th {\n",
       "        text-align: right;\n",
       "    }\n",
       "</style>\n",
       "<table border=\"1\" class=\"dataframe\">\n",
       "  <thead>\n",
       "    <tr style=\"text-align: right;\">\n",
       "      <th></th>\n",
       "      <th>animal_id</th>\n",
       "      <th>name</th>\n",
       "      <th>datetime</th>\n",
       "      <th>found_location</th>\n",
       "      <th>intake_type</th>\n",
       "      <th>intake_condition</th>\n",
       "      <th>animal_type</th>\n",
       "      <th>sex_upon_intake</th>\n",
       "      <th>age_upon_intake</th>\n",
       "      <th>breed</th>\n",
       "      <th>color</th>\n",
       "    </tr>\n",
       "  </thead>\n",
       "  <tbody>\n",
       "    <tr>\n",
       "      <th>0</th>\n",
       "      <td>A869978</td>\n",
       "      <td>NaN</td>\n",
       "      <td>2022-11-29T07:04:00.000</td>\n",
       "      <td>14236 Fm 969 in Travis (TX)</td>\n",
       "      <td>Stray</td>\n",
       "      <td>Sick</td>\n",
       "      <td>Dog</td>\n",
       "      <td>Intact Male</td>\n",
       "      <td>1 month</td>\n",
       "      <td>Cane Corso</td>\n",
       "      <td>Black</td>\n",
       "    </tr>\n",
       "    <tr>\n",
       "      <th>1</th>\n",
       "      <td>A869965</td>\n",
       "      <td>NaN</td>\n",
       "      <td>2022-11-28T19:00:00.000</td>\n",
       "      <td>6704 Branrust Dr in Austin (TX)</td>\n",
       "      <td>Stray</td>\n",
       "      <td>Injured</td>\n",
       "      <td>Cat</td>\n",
       "      <td>Unknown</td>\n",
       "      <td>2 years</td>\n",
       "      <td>Domestic Shorthair</td>\n",
       "      <td>Orange Tabby/White</td>\n",
       "    </tr>\n",
       "    <tr>\n",
       "      <th>2</th>\n",
       "      <td>A869969</td>\n",
       "      <td>Biji</td>\n",
       "      <td>2022-11-28T18:56:00.000</td>\n",
       "      <td>Austin (TX)</td>\n",
       "      <td>Owner Surrender</td>\n",
       "      <td>Normal</td>\n",
       "      <td>Cat</td>\n",
       "      <td>Neutered Male</td>\n",
       "      <td>1 year</td>\n",
       "      <td>Domestic Longhair</td>\n",
       "      <td>Blue/White</td>\n",
       "    </tr>\n",
       "    <tr>\n",
       "      <th>3</th>\n",
       "      <td>A869967</td>\n",
       "      <td>NaN</td>\n",
       "      <td>2022-11-28T18:46:00.000</td>\n",
       "      <td>1309 Walnut Avenue in Travis (TX)</td>\n",
       "      <td>Stray</td>\n",
       "      <td>Normal</td>\n",
       "      <td>Cat</td>\n",
       "      <td>Intact Female</td>\n",
       "      <td>1 year</td>\n",
       "      <td>Domestic Shorthair</td>\n",
       "      <td>Brown Tabby/White</td>\n",
       "    </tr>\n",
       "    <tr>\n",
       "      <th>4</th>\n",
       "      <td>A869968</td>\n",
       "      <td>NaN</td>\n",
       "      <td>2022-11-28T18:32:00.000</td>\n",
       "      <td>11210 Ranch To Market 222 in Austin (TX)</td>\n",
       "      <td>Owner Surrender</td>\n",
       "      <td>Normal</td>\n",
       "      <td>Dog</td>\n",
       "      <td>Unknown</td>\n",
       "      <td>2 years</td>\n",
       "      <td>Miniature Schnauzer</td>\n",
       "      <td>Black</td>\n",
       "    </tr>\n",
       "    <tr>\n",
       "      <th>...</th>\n",
       "      <td>...</td>\n",
       "      <td>...</td>\n",
       "      <td>...</td>\n",
       "      <td>...</td>\n",
       "      <td>...</td>\n",
       "      <td>...</td>\n",
       "      <td>...</td>\n",
       "      <td>...</td>\n",
       "      <td>...</td>\n",
       "      <td>...</td>\n",
       "      <td>...</td>\n",
       "    </tr>\n",
       "    <tr>\n",
       "      <th>16284</th>\n",
       "      <td>A840685</td>\n",
       "      <td>*Tajin</td>\n",
       "      <td>2021-08-12T09:19:00.000</td>\n",
       "      <td>1305 Walnut Avenue in Austin (TX)</td>\n",
       "      <td>Stray</td>\n",
       "      <td>Normal</td>\n",
       "      <td>Dog</td>\n",
       "      <td>Intact Male</td>\n",
       "      <td>5 years</td>\n",
       "      <td>Pit Bull Mix</td>\n",
       "      <td>White/Black</td>\n",
       "    </tr>\n",
       "    <tr>\n",
       "      <th>17997</th>\n",
       "      <td>A838100</td>\n",
       "      <td>*Jacobina</td>\n",
       "      <td>2021-07-02T15:11:00.000</td>\n",
       "      <td>5312 Harmon Avenue in Austin (TX)</td>\n",
       "      <td>Stray</td>\n",
       "      <td>Injured</td>\n",
       "      <td>Cat</td>\n",
       "      <td>Spayed Female</td>\n",
       "      <td>5 years</td>\n",
       "      <td>Domestic Shorthair Mix</td>\n",
       "      <td>Torbie</td>\n",
       "    </tr>\n",
       "    <tr>\n",
       "      <th>22703</th>\n",
       "      <td>A828658</td>\n",
       "      <td>*Joey</td>\n",
       "      <td>2021-01-22T15:52:00.000</td>\n",
       "      <td>6104 Old Fredericksburg Road in Austin (TX)</td>\n",
       "      <td>Stray</td>\n",
       "      <td>Injured</td>\n",
       "      <td>Cat</td>\n",
       "      <td>Intact Male</td>\n",
       "      <td>2 years</td>\n",
       "      <td>Domestic Shorthair</td>\n",
       "      <td>Brown Tabby</td>\n",
       "    </tr>\n",
       "    <tr>\n",
       "      <th>117068</th>\n",
       "      <td>A645513</td>\n",
       "      <td>NaN</td>\n",
       "      <td>2015-05-18T07:30:00.000</td>\n",
       "      <td>3001 Sauls in Austin (TX)</td>\n",
       "      <td>Stray</td>\n",
       "      <td>Injured</td>\n",
       "      <td>Cat</td>\n",
       "      <td>Neutered Male</td>\n",
       "      <td>6 years</td>\n",
       "      <td>Domestic Longhair Mix</td>\n",
       "      <td>Cream Tabby/White</td>\n",
       "    </tr>\n",
       "    <tr>\n",
       "      <th>128813</th>\n",
       "      <td>A636629</td>\n",
       "      <td>NaN</td>\n",
       "      <td>2014-09-07T16:31:00.000</td>\n",
       "      <td>706 Terrace Mountain Drive in Austin (TX)</td>\n",
       "      <td>Stray</td>\n",
       "      <td>Normal</td>\n",
       "      <td>Cat</td>\n",
       "      <td>Spayed Female</td>\n",
       "      <td>4 years</td>\n",
       "      <td>Domestic Shorthair Mix</td>\n",
       "      <td>Tortie</td>\n",
       "    </tr>\n",
       "  </tbody>\n",
       "</table>\n",
       "<p>726 rows × 11 columns</p>\n",
       "</div>"
      ],
      "text/plain": [
       "       animal_id       name                 datetime  \\\n",
       "0        A869978        NaN  2022-11-29T07:04:00.000   \n",
       "1        A869965        NaN  2022-11-28T19:00:00.000   \n",
       "2        A869969       Biji  2022-11-28T18:56:00.000   \n",
       "3        A869967        NaN  2022-11-28T18:46:00.000   \n",
       "4        A869968        NaN  2022-11-28T18:32:00.000   \n",
       "...          ...        ...                      ...   \n",
       "16284    A840685     *Tajin  2021-08-12T09:19:00.000   \n",
       "17997    A838100  *Jacobina  2021-07-02T15:11:00.000   \n",
       "22703    A828658      *Joey  2021-01-22T15:52:00.000   \n",
       "117068   A645513        NaN  2015-05-18T07:30:00.000   \n",
       "128813   A636629        NaN  2014-09-07T16:31:00.000   \n",
       "\n",
       "                                     found_location      intake_type  \\\n",
       "0                       14236 Fm 969 in Travis (TX)            Stray   \n",
       "1                   6704 Branrust Dr in Austin (TX)            Stray   \n",
       "2                                       Austin (TX)  Owner Surrender   \n",
       "3                 1309 Walnut Avenue in Travis (TX)            Stray   \n",
       "4          11210 Ranch To Market 222 in Austin (TX)  Owner Surrender   \n",
       "...                                             ...              ...   \n",
       "16284             1305 Walnut Avenue in Austin (TX)            Stray   \n",
       "17997             5312 Harmon Avenue in Austin (TX)            Stray   \n",
       "22703   6104 Old Fredericksburg Road in Austin (TX)            Stray   \n",
       "117068                    3001 Sauls in Austin (TX)            Stray   \n",
       "128813    706 Terrace Mountain Drive in Austin (TX)            Stray   \n",
       "\n",
       "       intake_condition animal_type sex_upon_intake age_upon_intake  \\\n",
       "0                  Sick         Dog     Intact Male         1 month   \n",
       "1               Injured         Cat         Unknown         2 years   \n",
       "2                Normal         Cat   Neutered Male          1 year   \n",
       "3                Normal         Cat   Intact Female          1 year   \n",
       "4                Normal         Dog         Unknown         2 years   \n",
       "...                 ...         ...             ...             ...   \n",
       "16284            Normal         Dog     Intact Male         5 years   \n",
       "17997           Injured         Cat   Spayed Female         5 years   \n",
       "22703           Injured         Cat     Intact Male         2 years   \n",
       "117068          Injured         Cat   Neutered Male         6 years   \n",
       "128813           Normal         Cat   Spayed Female         4 years   \n",
       "\n",
       "                         breed               color  \n",
       "0                   Cane Corso               Black  \n",
       "1           Domestic Shorthair  Orange Tabby/White  \n",
       "2            Domestic Longhair          Blue/White  \n",
       "3           Domestic Shorthair   Brown Tabby/White  \n",
       "4          Miniature Schnauzer               Black  \n",
       "...                        ...                 ...  \n",
       "16284             Pit Bull Mix         White/Black  \n",
       "17997   Domestic Shorthair Mix              Torbie  \n",
       "22703       Domestic Shorthair         Brown Tabby  \n",
       "117068   Domestic Longhair Mix   Cream Tabby/White  \n",
       "128813  Domestic Shorthair Mix              Tortie  \n",
       "\n",
       "[726 rows x 11 columns]"
      ]
     },
     "execution_count": 14,
     "metadata": {},
     "output_type": "execute_result"
    }
   ],
   "source": [
    "intakes[~intakes['animal_id'].isin(outcomes['animal_id'])]"
   ]
  },
  {
   "cell_type": "code",
   "execution_count": 15,
   "metadata": {},
   "outputs": [
    {
     "data": {
      "text/html": [
       "<div>\n",
       "<style scoped>\n",
       "    .dataframe tbody tr th:only-of-type {\n",
       "        vertical-align: middle;\n",
       "    }\n",
       "\n",
       "    .dataframe tbody tr th {\n",
       "        vertical-align: top;\n",
       "    }\n",
       "\n",
       "    .dataframe thead th {\n",
       "        text-align: right;\n",
       "    }\n",
       "</style>\n",
       "<table border=\"1\" class=\"dataframe\">\n",
       "  <thead>\n",
       "    <tr style=\"text-align: right;\">\n",
       "      <th></th>\n",
       "      <th>animal_id</th>\n",
       "      <th>name</th>\n",
       "      <th>datetime</th>\n",
       "      <th>date_of_birth</th>\n",
       "      <th>outcome_type</th>\n",
       "      <th>outcome_subtype</th>\n",
       "      <th>animal_type</th>\n",
       "      <th>sex_upon_outcome</th>\n",
       "      <th>age_upon_outcome</th>\n",
       "      <th>breed</th>\n",
       "      <th>color</th>\n",
       "    </tr>\n",
       "  </thead>\n",
       "  <tbody>\n",
       "    <tr>\n",
       "      <th>61227</th>\n",
       "      <td>A651995</td>\n",
       "      <td>*Sugar</td>\n",
       "      <td>2018-07-02T15:34:00.000</td>\n",
       "      <td>2011-10-18T00:00:00.000</td>\n",
       "      <td>Adoption</td>\n",
       "      <td>Foster</td>\n",
       "      <td>Dog</td>\n",
       "      <td>Spayed Female</td>\n",
       "      <td>6 years</td>\n",
       "      <td>Staffordshire Mix</td>\n",
       "      <td>Brown/White</td>\n",
       "    </tr>\n",
       "    <tr>\n",
       "      <th>114899</th>\n",
       "      <td>A620557</td>\n",
       "      <td>Button</td>\n",
       "      <td>2015-06-22T13:08:00.000</td>\n",
       "      <td>2002-02-22T00:00:00.000</td>\n",
       "      <td>Euthanasia</td>\n",
       "      <td>Suffering</td>\n",
       "      <td>Cat</td>\n",
       "      <td>Spayed Female</td>\n",
       "      <td>13 years</td>\n",
       "      <td>Domestic Shorthair Mix</td>\n",
       "      <td>Black</td>\n",
       "    </tr>\n",
       "    <tr>\n",
       "      <th>120384</th>\n",
       "      <td>A663083</td>\n",
       "      <td>*Zack</td>\n",
       "      <td>2015-03-10T07:37:00.000</td>\n",
       "      <td>2011-09-12T00:00:00.000</td>\n",
       "      <td>Adoption</td>\n",
       "      <td>Foster</td>\n",
       "      <td>Dog</td>\n",
       "      <td>Neutered Male</td>\n",
       "      <td>3 years</td>\n",
       "      <td>Chinese Sharpei/Border Collie</td>\n",
       "      <td>Black/White</td>\n",
       "    </tr>\n",
       "    <tr>\n",
       "      <th>122121</th>\n",
       "      <td>A658598</td>\n",
       "      <td>*Lindy</td>\n",
       "      <td>2015-01-24T11:29:00.000</td>\n",
       "      <td>2013-02-12T00:00:00.000</td>\n",
       "      <td>Adoption</td>\n",
       "      <td>Foster</td>\n",
       "      <td>Cat</td>\n",
       "      <td>Spayed Female</td>\n",
       "      <td>1 year</td>\n",
       "      <td>Domestic Shorthair Mix</td>\n",
       "      <td>Blue Tabby</td>\n",
       "    </tr>\n",
       "    <tr>\n",
       "      <th>123729</th>\n",
       "      <td>A622036</td>\n",
       "      <td>NaN</td>\n",
       "      <td>2014-12-16T12:41:00.000</td>\n",
       "      <td>2010-03-16T00:00:00.000</td>\n",
       "      <td>Euthanasia</td>\n",
       "      <td>Suffering</td>\n",
       "      <td>Cat</td>\n",
       "      <td>Neutered Male</td>\n",
       "      <td>4 years</td>\n",
       "      <td>Domestic Shorthair Mix</td>\n",
       "      <td>Brown Tabby</td>\n",
       "    </tr>\n",
       "    <tr>\n",
       "      <th>...</th>\n",
       "      <td>...</td>\n",
       "      <td>...</td>\n",
       "      <td>...</td>\n",
       "      <td>...</td>\n",
       "      <td>...</td>\n",
       "      <td>...</td>\n",
       "      <td>...</td>\n",
       "      <td>...</td>\n",
       "      <td>...</td>\n",
       "      <td>...</td>\n",
       "      <td>...</td>\n",
       "    </tr>\n",
       "    <tr>\n",
       "      <th>146231</th>\n",
       "      <td>A663833</td>\n",
       "      <td>Baby Girl</td>\n",
       "      <td>2013-10-01T11:50:00.000</td>\n",
       "      <td>2004-09-24T00:00:00.000</td>\n",
       "      <td>Return to Owner</td>\n",
       "      <td>NaN</td>\n",
       "      <td>Dog</td>\n",
       "      <td>Spayed Female</td>\n",
       "      <td>9 years</td>\n",
       "      <td>Labrador Retriever Mix</td>\n",
       "      <td>Black</td>\n",
       "    </tr>\n",
       "    <tr>\n",
       "      <th>146233</th>\n",
       "      <td>A663888</td>\n",
       "      <td>NaN</td>\n",
       "      <td>2013-10-01T11:13:00.000</td>\n",
       "      <td>2011-09-25T00:00:00.000</td>\n",
       "      <td>Transfer</td>\n",
       "      <td>Partner</td>\n",
       "      <td>Dog</td>\n",
       "      <td>Spayed Female</td>\n",
       "      <td>2 years</td>\n",
       "      <td>Boxer Mix</td>\n",
       "      <td>Red/White</td>\n",
       "    </tr>\n",
       "    <tr>\n",
       "      <th>146234</th>\n",
       "      <td>A663646</td>\n",
       "      <td>NaN</td>\n",
       "      <td>2013-10-01T11:12:00.000</td>\n",
       "      <td>2010-09-22T00:00:00.000</td>\n",
       "      <td>Transfer</td>\n",
       "      <td>Partner</td>\n",
       "      <td>Dog</td>\n",
       "      <td>Neutered Male</td>\n",
       "      <td>3 years</td>\n",
       "      <td>Toy Poodle Mix</td>\n",
       "      <td>White</td>\n",
       "    </tr>\n",
       "    <tr>\n",
       "      <th>146235</th>\n",
       "      <td>A664223</td>\n",
       "      <td>Moby</td>\n",
       "      <td>2013-10-01T11:03:00.000</td>\n",
       "      <td>2009-09-30T00:00:00.000</td>\n",
       "      <td>Return to Owner</td>\n",
       "      <td>NaN</td>\n",
       "      <td>Dog</td>\n",
       "      <td>Neutered Male</td>\n",
       "      <td>4 years</td>\n",
       "      <td>Bulldog Mix</td>\n",
       "      <td>White</td>\n",
       "    </tr>\n",
       "    <tr>\n",
       "      <th>146239</th>\n",
       "      <td>A659834</td>\n",
       "      <td>*Dudley</td>\n",
       "      <td>2013-10-01T09:31:00.000</td>\n",
       "      <td>2013-07-23T00:00:00.000</td>\n",
       "      <td>Adoption</td>\n",
       "      <td>Foster</td>\n",
       "      <td>Dog</td>\n",
       "      <td>Neutered Male</td>\n",
       "      <td>2 months</td>\n",
       "      <td>Labrador Retriever Mix</td>\n",
       "      <td>Black</td>\n",
       "    </tr>\n",
       "  </tbody>\n",
       "</table>\n",
       "<p>814 rows × 11 columns</p>\n",
       "</div>"
      ],
      "text/plain": [
       "       animal_id       name                 datetime            date_of_birth  \\\n",
       "61227    A651995     *Sugar  2018-07-02T15:34:00.000  2011-10-18T00:00:00.000   \n",
       "114899   A620557     Button  2015-06-22T13:08:00.000  2002-02-22T00:00:00.000   \n",
       "120384   A663083      *Zack  2015-03-10T07:37:00.000  2011-09-12T00:00:00.000   \n",
       "122121   A658598     *Lindy  2015-01-24T11:29:00.000  2013-02-12T00:00:00.000   \n",
       "123729   A622036        NaN  2014-12-16T12:41:00.000  2010-03-16T00:00:00.000   \n",
       "...          ...        ...                      ...                      ...   \n",
       "146231   A663833  Baby Girl  2013-10-01T11:50:00.000  2004-09-24T00:00:00.000   \n",
       "146233   A663888        NaN  2013-10-01T11:13:00.000  2011-09-25T00:00:00.000   \n",
       "146234   A663646        NaN  2013-10-01T11:12:00.000  2010-09-22T00:00:00.000   \n",
       "146235   A664223       Moby  2013-10-01T11:03:00.000  2009-09-30T00:00:00.000   \n",
       "146239   A659834    *Dudley  2013-10-01T09:31:00.000  2013-07-23T00:00:00.000   \n",
       "\n",
       "           outcome_type outcome_subtype animal_type sex_upon_outcome  \\\n",
       "61227          Adoption          Foster         Dog    Spayed Female   \n",
       "114899       Euthanasia       Suffering         Cat    Spayed Female   \n",
       "120384         Adoption          Foster         Dog    Neutered Male   \n",
       "122121         Adoption          Foster         Cat    Spayed Female   \n",
       "123729       Euthanasia       Suffering         Cat    Neutered Male   \n",
       "...                 ...             ...         ...              ...   \n",
       "146231  Return to Owner             NaN         Dog    Spayed Female   \n",
       "146233         Transfer         Partner         Dog    Spayed Female   \n",
       "146234         Transfer         Partner         Dog    Neutered Male   \n",
       "146235  Return to Owner             NaN         Dog    Neutered Male   \n",
       "146239         Adoption          Foster         Dog    Neutered Male   \n",
       "\n",
       "       age_upon_outcome                          breed        color  \n",
       "61227           6 years              Staffordshire Mix  Brown/White  \n",
       "114899         13 years         Domestic Shorthair Mix        Black  \n",
       "120384          3 years  Chinese Sharpei/Border Collie  Black/White  \n",
       "122121           1 year         Domestic Shorthair Mix   Blue Tabby  \n",
       "123729          4 years         Domestic Shorthair Mix  Brown Tabby  \n",
       "...                 ...                            ...          ...  \n",
       "146231          9 years         Labrador Retriever Mix        Black  \n",
       "146233          2 years                      Boxer Mix    Red/White  \n",
       "146234          3 years                 Toy Poodle Mix        White  \n",
       "146235          4 years                    Bulldog Mix        White  \n",
       "146239         2 months         Labrador Retriever Mix        Black  \n",
       "\n",
       "[814 rows x 11 columns]"
      ]
     },
     "execution_count": 15,
     "metadata": {},
     "output_type": "execute_result"
    }
   ],
   "source": [
    "#get animal ids that don't have an intake\n",
    "outcomes.query('animal_id not in @intakes.animal_id')"
   ]
  },
  {
   "cell_type": "code",
   "execution_count": 16,
   "metadata": {},
   "outputs": [
    {
     "data": {
      "text/html": [
       "<div>\n",
       "<style scoped>\n",
       "    .dataframe tbody tr th:only-of-type {\n",
       "        vertical-align: middle;\n",
       "    }\n",
       "\n",
       "    .dataframe tbody tr th {\n",
       "        vertical-align: top;\n",
       "    }\n",
       "\n",
       "    .dataframe thead th {\n",
       "        text-align: right;\n",
       "    }\n",
       "</style>\n",
       "<table border=\"1\" class=\"dataframe\">\n",
       "  <thead>\n",
       "    <tr style=\"text-align: right;\">\n",
       "      <th></th>\n",
       "      <th>animal_id</th>\n",
       "      <th>name</th>\n",
       "      <th>datetime</th>\n",
       "      <th>found_location</th>\n",
       "      <th>intake_type</th>\n",
       "      <th>intake_condition</th>\n",
       "      <th>animal_type</th>\n",
       "      <th>sex_upon_intake</th>\n",
       "      <th>age_upon_intake</th>\n",
       "      <th>breed</th>\n",
       "      <th>color</th>\n",
       "    </tr>\n",
       "  </thead>\n",
       "  <tbody>\n",
       "  </tbody>\n",
       "</table>\n",
       "</div>"
      ],
      "text/plain": [
       "Empty DataFrame\n",
       "Columns: [animal_id, name, datetime, found_location, intake_type, intake_condition, animal_type, sex_upon_intake, age_upon_intake, breed, color]\n",
       "Index: []"
      ]
     },
     "execution_count": 16,
     "metadata": {},
     "output_type": "execute_result"
    }
   ],
   "source": [
    "intakes[intakes['animal_id']  == 'A663646']"
   ]
  },
  {
   "cell_type": "markdown",
   "metadata": {},
   "source": [
    "These animals do not appear in our intakes data. There doesn't seem to be any particular pattern as to why this is. Possibly just not tagged upon intake by the shelter."
   ]
  },
  {
   "cell_type": "markdown",
   "metadata": {},
   "source": [
    "Since we have plenty of data. Lets remove them."
   ]
  },
  {
   "cell_type": "code",
   "execution_count": 17,
   "metadata": {},
   "outputs": [],
   "source": [
    "# remove = outcomes.query('animal_id not in @intakes.animal_id')\n",
    "# outcomes = pd.concat([outcomes,remove]).drop_duplicates(keep = False)"
   ]
  },
  {
   "cell_type": "code",
   "execution_count": 18,
   "metadata": {},
   "outputs": [],
   "source": [
    "# remove = intakes.query('animal_id not in @outcomes.animal_id')\n",
    "# intakes = pd.concat([intakes,remove]).drop_duplicates(keep = False)"
   ]
  },
  {
   "cell_type": "code",
   "execution_count": 19,
   "metadata": {},
   "outputs": [],
   "source": [
    "# remove"
   ]
  },
  {
   "cell_type": "code",
   "execution_count": 20,
   "metadata": {},
   "outputs": [
    {
     "name": "stdout",
     "output_type": "stream",
     "text": [
      "146139\n",
      "146221\n"
     ]
    }
   ],
   "source": [
    "#number of rows in each\n",
    "print(len(intakes))\n",
    "print(len(outcomes))"
   ]
  },
  {
   "cell_type": "markdown",
   "metadata": {},
   "source": [
    "Let's convert our datetime strings into something more usable."
   ]
  },
  {
   "cell_type": "code",
   "execution_count": 21,
   "metadata": {},
   "outputs": [],
   "source": [
    "intakes['datetime'] = pd.to_datetime(intakes['datetime'])\n",
    "outcomes['datetime'] = pd.to_datetime(outcomes['datetime'])"
   ]
  },
  {
   "cell_type": "markdown",
   "metadata": {},
   "source": [
    "We need these to perform a merge on our two datasets and combine intakes and outcomes."
   ]
  },
  {
   "cell_type": "code",
   "execution_count": 22,
   "metadata": {},
   "outputs": [],
   "source": [
    "# sort the data columns\n",
    "outcomes.sort_values('datetime',inplace=True)\n",
    "intakes.sort_values('datetime',inplace=True)"
   ]
  },
  {
   "cell_type": "code",
   "execution_count": 23,
   "metadata": {},
   "outputs": [],
   "source": [
    "#add another column to preserve the outgoing date\n",
    "outcomes['datetime2'] = outcomes['datetime']"
   ]
  },
  {
   "cell_type": "markdown",
   "metadata": {},
   "source": [
    "We'll do an exact merge on animal_id and a closest match merge on datetime. This will match animals that have gone through the shelter multiple times. The forward direction specified is important as we want to match the right datetime, our outcomes, with the closest intake before it."
   ]
  },
  {
   "cell_type": "code",
   "execution_count": 24,
   "metadata": {},
   "outputs": [],
   "source": [
    "\n",
    "intakes_and_outcomes = pd.merge_asof( left = intakes, right = outcomes, on = ['datetime'], by = ['animal_id'], direction = 'forward')"
   ]
  },
  {
   "cell_type": "code",
   "execution_count": 25,
   "metadata": {},
   "outputs": [
    {
     "data": {
      "text/html": [
       "<div>\n",
       "<style scoped>\n",
       "    .dataframe tbody tr th:only-of-type {\n",
       "        vertical-align: middle;\n",
       "    }\n",
       "\n",
       "    .dataframe tbody tr th {\n",
       "        vertical-align: top;\n",
       "    }\n",
       "\n",
       "    .dataframe thead th {\n",
       "        text-align: right;\n",
       "    }\n",
       "</style>\n",
       "<table border=\"1\" class=\"dataframe\">\n",
       "  <thead>\n",
       "    <tr style=\"text-align: right;\">\n",
       "      <th></th>\n",
       "      <th>animal_id</th>\n",
       "      <th>name_x</th>\n",
       "      <th>datetime</th>\n",
       "      <th>found_location</th>\n",
       "      <th>intake_type</th>\n",
       "      <th>intake_condition</th>\n",
       "      <th>animal_type_x</th>\n",
       "      <th>sex_upon_intake</th>\n",
       "      <th>age_upon_intake</th>\n",
       "      <th>breed_x</th>\n",
       "      <th>...</th>\n",
       "      <th>name_y</th>\n",
       "      <th>date_of_birth</th>\n",
       "      <th>outcome_type</th>\n",
       "      <th>outcome_subtype</th>\n",
       "      <th>animal_type_y</th>\n",
       "      <th>sex_upon_outcome</th>\n",
       "      <th>age_upon_outcome</th>\n",
       "      <th>breed_y</th>\n",
       "      <th>color_y</th>\n",
       "      <th>datetime2</th>\n",
       "    </tr>\n",
       "  </thead>\n",
       "  <tbody>\n",
       "    <tr>\n",
       "      <th>0</th>\n",
       "      <td>A521520</td>\n",
       "      <td>Nina</td>\n",
       "      <td>2013-10-01 07:51:00</td>\n",
       "      <td>Norht Ec in Austin (TX)</td>\n",
       "      <td>Stray</td>\n",
       "      <td>Normal</td>\n",
       "      <td>Dog</td>\n",
       "      <td>Spayed Female</td>\n",
       "      <td>7 years</td>\n",
       "      <td>Border Terrier/Border Collie</td>\n",
       "      <td>...</td>\n",
       "      <td>Nina</td>\n",
       "      <td>2006-09-07T00:00:00.000</td>\n",
       "      <td>Return to Owner</td>\n",
       "      <td>NaN</td>\n",
       "      <td>Dog</td>\n",
       "      <td>Spayed Female</td>\n",
       "      <td>7 years</td>\n",
       "      <td>Border Terrier/Border Collie</td>\n",
       "      <td>White/Tan</td>\n",
       "      <td>2013-10-01 15:39:00</td>\n",
       "    </tr>\n",
       "    <tr>\n",
       "      <th>1</th>\n",
       "      <td>A664237</td>\n",
       "      <td>NaN</td>\n",
       "      <td>2013-10-01 08:33:00</td>\n",
       "      <td>Abia in Austin (TX)</td>\n",
       "      <td>Stray</td>\n",
       "      <td>Normal</td>\n",
       "      <td>Cat</td>\n",
       "      <td>Unknown</td>\n",
       "      <td>1 week</td>\n",
       "      <td>Domestic Shorthair Mix</td>\n",
       "      <td>...</td>\n",
       "      <td>NaN</td>\n",
       "      <td>2013-09-24T00:00:00.000</td>\n",
       "      <td>Transfer</td>\n",
       "      <td>Partner</td>\n",
       "      <td>Cat</td>\n",
       "      <td>Unknown</td>\n",
       "      <td>1 week</td>\n",
       "      <td>Domestic Shorthair Mix</td>\n",
       "      <td>Orange/White</td>\n",
       "      <td>2013-10-01 10:44:00</td>\n",
       "    </tr>\n",
       "    <tr>\n",
       "      <th>2</th>\n",
       "      <td>A664236</td>\n",
       "      <td>NaN</td>\n",
       "      <td>2013-10-01 08:33:00</td>\n",
       "      <td>Abia in Austin (TX)</td>\n",
       "      <td>Stray</td>\n",
       "      <td>Normal</td>\n",
       "      <td>Cat</td>\n",
       "      <td>Unknown</td>\n",
       "      <td>1 week</td>\n",
       "      <td>Domestic Shorthair Mix</td>\n",
       "      <td>...</td>\n",
       "      <td>NaN</td>\n",
       "      <td>2013-09-24T00:00:00.000</td>\n",
       "      <td>Transfer</td>\n",
       "      <td>Partner</td>\n",
       "      <td>Cat</td>\n",
       "      <td>Unknown</td>\n",
       "      <td>1 week</td>\n",
       "      <td>Domestic Shorthair Mix</td>\n",
       "      <td>Orange/White</td>\n",
       "      <td>2013-10-01 10:44:00</td>\n",
       "    </tr>\n",
       "    <tr>\n",
       "      <th>3</th>\n",
       "      <td>A664235</td>\n",
       "      <td>NaN</td>\n",
       "      <td>2013-10-01 08:33:00</td>\n",
       "      <td>Abia in Austin (TX)</td>\n",
       "      <td>Stray</td>\n",
       "      <td>Normal</td>\n",
       "      <td>Cat</td>\n",
       "      <td>Unknown</td>\n",
       "      <td>1 week</td>\n",
       "      <td>Domestic Shorthair Mix</td>\n",
       "      <td>...</td>\n",
       "      <td>NaN</td>\n",
       "      <td>2013-09-24T00:00:00.000</td>\n",
       "      <td>Transfer</td>\n",
       "      <td>Partner</td>\n",
       "      <td>Cat</td>\n",
       "      <td>Unknown</td>\n",
       "      <td>1 week</td>\n",
       "      <td>Domestic Shorthair Mix</td>\n",
       "      <td>Orange/White</td>\n",
       "      <td>2013-10-01 10:39:00</td>\n",
       "    </tr>\n",
       "    <tr>\n",
       "      <th>4</th>\n",
       "      <td>A664233</td>\n",
       "      <td>Stevie</td>\n",
       "      <td>2013-10-01 08:53:00</td>\n",
       "      <td>7405 Springtime in Austin (TX)</td>\n",
       "      <td>Stray</td>\n",
       "      <td>Injured</td>\n",
       "      <td>Dog</td>\n",
       "      <td>Intact Female</td>\n",
       "      <td>3 years</td>\n",
       "      <td>Pit Bull Mix</td>\n",
       "      <td>...</td>\n",
       "      <td>Stevie</td>\n",
       "      <td>2010-09-30T00:00:00.000</td>\n",
       "      <td>Euthanasia</td>\n",
       "      <td>Suffering</td>\n",
       "      <td>Dog</td>\n",
       "      <td>Intact Female</td>\n",
       "      <td>3 years</td>\n",
       "      <td>Pit Bull Mix</td>\n",
       "      <td>Blue/White</td>\n",
       "      <td>2013-10-01 15:33:00</td>\n",
       "    </tr>\n",
       "    <tr>\n",
       "      <th>...</th>\n",
       "      <td>...</td>\n",
       "      <td>...</td>\n",
       "      <td>...</td>\n",
       "      <td>...</td>\n",
       "      <td>...</td>\n",
       "      <td>...</td>\n",
       "      <td>...</td>\n",
       "      <td>...</td>\n",
       "      <td>...</td>\n",
       "      <td>...</td>\n",
       "      <td>...</td>\n",
       "      <td>...</td>\n",
       "      <td>...</td>\n",
       "      <td>...</td>\n",
       "      <td>...</td>\n",
       "      <td>...</td>\n",
       "      <td>...</td>\n",
       "      <td>...</td>\n",
       "      <td>...</td>\n",
       "      <td>...</td>\n",
       "      <td>...</td>\n",
       "    </tr>\n",
       "    <tr>\n",
       "      <th>146134</th>\n",
       "      <td>A869968</td>\n",
       "      <td>NaN</td>\n",
       "      <td>2022-11-28 18:32:00</td>\n",
       "      <td>11210 Ranch To Market 222 in Austin (TX)</td>\n",
       "      <td>Owner Surrender</td>\n",
       "      <td>Normal</td>\n",
       "      <td>Dog</td>\n",
       "      <td>Unknown</td>\n",
       "      <td>2 years</td>\n",
       "      <td>Miniature Schnauzer</td>\n",
       "      <td>...</td>\n",
       "      <td>NaN</td>\n",
       "      <td>NaN</td>\n",
       "      <td>NaN</td>\n",
       "      <td>NaN</td>\n",
       "      <td>NaN</td>\n",
       "      <td>NaN</td>\n",
       "      <td>NaN</td>\n",
       "      <td>NaN</td>\n",
       "      <td>NaN</td>\n",
       "      <td>NaT</td>\n",
       "    </tr>\n",
       "    <tr>\n",
       "      <th>146135</th>\n",
       "      <td>A869967</td>\n",
       "      <td>NaN</td>\n",
       "      <td>2022-11-28 18:46:00</td>\n",
       "      <td>1309 Walnut Avenue in Travis (TX)</td>\n",
       "      <td>Stray</td>\n",
       "      <td>Normal</td>\n",
       "      <td>Cat</td>\n",
       "      <td>Intact Female</td>\n",
       "      <td>1 year</td>\n",
       "      <td>Domestic Shorthair</td>\n",
       "      <td>...</td>\n",
       "      <td>NaN</td>\n",
       "      <td>NaN</td>\n",
       "      <td>NaN</td>\n",
       "      <td>NaN</td>\n",
       "      <td>NaN</td>\n",
       "      <td>NaN</td>\n",
       "      <td>NaN</td>\n",
       "      <td>NaN</td>\n",
       "      <td>NaN</td>\n",
       "      <td>NaT</td>\n",
       "    </tr>\n",
       "    <tr>\n",
       "      <th>146136</th>\n",
       "      <td>A869969</td>\n",
       "      <td>Biji</td>\n",
       "      <td>2022-11-28 18:56:00</td>\n",
       "      <td>Austin (TX)</td>\n",
       "      <td>Owner Surrender</td>\n",
       "      <td>Normal</td>\n",
       "      <td>Cat</td>\n",
       "      <td>Neutered Male</td>\n",
       "      <td>1 year</td>\n",
       "      <td>Domestic Longhair</td>\n",
       "      <td>...</td>\n",
       "      <td>NaN</td>\n",
       "      <td>NaN</td>\n",
       "      <td>NaN</td>\n",
       "      <td>NaN</td>\n",
       "      <td>NaN</td>\n",
       "      <td>NaN</td>\n",
       "      <td>NaN</td>\n",
       "      <td>NaN</td>\n",
       "      <td>NaN</td>\n",
       "      <td>NaT</td>\n",
       "    </tr>\n",
       "    <tr>\n",
       "      <th>146137</th>\n",
       "      <td>A869965</td>\n",
       "      <td>NaN</td>\n",
       "      <td>2022-11-28 19:00:00</td>\n",
       "      <td>6704 Branrust Dr in Austin (TX)</td>\n",
       "      <td>Stray</td>\n",
       "      <td>Injured</td>\n",
       "      <td>Cat</td>\n",
       "      <td>Unknown</td>\n",
       "      <td>2 years</td>\n",
       "      <td>Domestic Shorthair</td>\n",
       "      <td>...</td>\n",
       "      <td>NaN</td>\n",
       "      <td>NaN</td>\n",
       "      <td>NaN</td>\n",
       "      <td>NaN</td>\n",
       "      <td>NaN</td>\n",
       "      <td>NaN</td>\n",
       "      <td>NaN</td>\n",
       "      <td>NaN</td>\n",
       "      <td>NaN</td>\n",
       "      <td>NaT</td>\n",
       "    </tr>\n",
       "    <tr>\n",
       "      <th>146138</th>\n",
       "      <td>A869978</td>\n",
       "      <td>NaN</td>\n",
       "      <td>2022-11-29 07:04:00</td>\n",
       "      <td>14236 Fm 969 in Travis (TX)</td>\n",
       "      <td>Stray</td>\n",
       "      <td>Sick</td>\n",
       "      <td>Dog</td>\n",
       "      <td>Intact Male</td>\n",
       "      <td>1 month</td>\n",
       "      <td>Cane Corso</td>\n",
       "      <td>...</td>\n",
       "      <td>NaN</td>\n",
       "      <td>NaN</td>\n",
       "      <td>NaN</td>\n",
       "      <td>NaN</td>\n",
       "      <td>NaN</td>\n",
       "      <td>NaN</td>\n",
       "      <td>NaN</td>\n",
       "      <td>NaN</td>\n",
       "      <td>NaN</td>\n",
       "      <td>NaT</td>\n",
       "    </tr>\n",
       "  </tbody>\n",
       "</table>\n",
       "<p>146139 rows × 21 columns</p>\n",
       "</div>"
      ],
      "text/plain": [
       "       animal_id  name_x            datetime  \\\n",
       "0        A521520    Nina 2013-10-01 07:51:00   \n",
       "1        A664237     NaN 2013-10-01 08:33:00   \n",
       "2        A664236     NaN 2013-10-01 08:33:00   \n",
       "3        A664235     NaN 2013-10-01 08:33:00   \n",
       "4        A664233  Stevie 2013-10-01 08:53:00   \n",
       "...          ...     ...                 ...   \n",
       "146134   A869968     NaN 2022-11-28 18:32:00   \n",
       "146135   A869967     NaN 2022-11-28 18:46:00   \n",
       "146136   A869969    Biji 2022-11-28 18:56:00   \n",
       "146137   A869965     NaN 2022-11-28 19:00:00   \n",
       "146138   A869978     NaN 2022-11-29 07:04:00   \n",
       "\n",
       "                                  found_location      intake_type  \\\n",
       "0                        Norht Ec in Austin (TX)            Stray   \n",
       "1                            Abia in Austin (TX)            Stray   \n",
       "2                            Abia in Austin (TX)            Stray   \n",
       "3                            Abia in Austin (TX)            Stray   \n",
       "4                 7405 Springtime in Austin (TX)            Stray   \n",
       "...                                          ...              ...   \n",
       "146134  11210 Ranch To Market 222 in Austin (TX)  Owner Surrender   \n",
       "146135         1309 Walnut Avenue in Travis (TX)            Stray   \n",
       "146136                               Austin (TX)  Owner Surrender   \n",
       "146137           6704 Branrust Dr in Austin (TX)            Stray   \n",
       "146138               14236 Fm 969 in Travis (TX)            Stray   \n",
       "\n",
       "       intake_condition animal_type_x sex_upon_intake age_upon_intake  \\\n",
       "0                Normal           Dog   Spayed Female         7 years   \n",
       "1                Normal           Cat         Unknown          1 week   \n",
       "2                Normal           Cat         Unknown          1 week   \n",
       "3                Normal           Cat         Unknown          1 week   \n",
       "4               Injured           Dog   Intact Female         3 years   \n",
       "...                 ...           ...             ...             ...   \n",
       "146134           Normal           Dog         Unknown         2 years   \n",
       "146135           Normal           Cat   Intact Female          1 year   \n",
       "146136           Normal           Cat   Neutered Male          1 year   \n",
       "146137          Injured           Cat         Unknown         2 years   \n",
       "146138             Sick           Dog     Intact Male         1 month   \n",
       "\n",
       "                             breed_x  ...  name_y            date_of_birth  \\\n",
       "0       Border Terrier/Border Collie  ...    Nina  2006-09-07T00:00:00.000   \n",
       "1             Domestic Shorthair Mix  ...     NaN  2013-09-24T00:00:00.000   \n",
       "2             Domestic Shorthair Mix  ...     NaN  2013-09-24T00:00:00.000   \n",
       "3             Domestic Shorthair Mix  ...     NaN  2013-09-24T00:00:00.000   \n",
       "4                       Pit Bull Mix  ...  Stevie  2010-09-30T00:00:00.000   \n",
       "...                              ...  ...     ...                      ...   \n",
       "146134           Miniature Schnauzer  ...     NaN                      NaN   \n",
       "146135            Domestic Shorthair  ...     NaN                      NaN   \n",
       "146136             Domestic Longhair  ...     NaN                      NaN   \n",
       "146137            Domestic Shorthair  ...     NaN                      NaN   \n",
       "146138                    Cane Corso  ...     NaN                      NaN   \n",
       "\n",
       "           outcome_type outcome_subtype animal_type_y sex_upon_outcome  \\\n",
       "0       Return to Owner             NaN           Dog    Spayed Female   \n",
       "1              Transfer         Partner           Cat          Unknown   \n",
       "2              Transfer         Partner           Cat          Unknown   \n",
       "3              Transfer         Partner           Cat          Unknown   \n",
       "4            Euthanasia       Suffering           Dog    Intact Female   \n",
       "...                 ...             ...           ...              ...   \n",
       "146134              NaN             NaN           NaN              NaN   \n",
       "146135              NaN             NaN           NaN              NaN   \n",
       "146136              NaN             NaN           NaN              NaN   \n",
       "146137              NaN             NaN           NaN              NaN   \n",
       "146138              NaN             NaN           NaN              NaN   \n",
       "\n",
       "       age_upon_outcome                       breed_y       color_y  \\\n",
       "0               7 years  Border Terrier/Border Collie     White/Tan   \n",
       "1                1 week        Domestic Shorthair Mix  Orange/White   \n",
       "2                1 week        Domestic Shorthair Mix  Orange/White   \n",
       "3                1 week        Domestic Shorthair Mix  Orange/White   \n",
       "4               3 years                  Pit Bull Mix    Blue/White   \n",
       "...                 ...                           ...           ...   \n",
       "146134              NaN                           NaN           NaN   \n",
       "146135              NaN                           NaN           NaN   \n",
       "146136              NaN                           NaN           NaN   \n",
       "146137              NaN                           NaN           NaN   \n",
       "146138              NaN                           NaN           NaN   \n",
       "\n",
       "                 datetime2  \n",
       "0      2013-10-01 15:39:00  \n",
       "1      2013-10-01 10:44:00  \n",
       "2      2013-10-01 10:44:00  \n",
       "3      2013-10-01 10:39:00  \n",
       "4      2013-10-01 15:33:00  \n",
       "...                    ...  \n",
       "146134                 NaT  \n",
       "146135                 NaT  \n",
       "146136                 NaT  \n",
       "146137                 NaT  \n",
       "146138                 NaT  \n",
       "\n",
       "[146139 rows x 21 columns]"
      ]
     },
     "execution_count": 25,
     "metadata": {},
     "output_type": "execute_result"
    }
   ],
   "source": [
    "intakes_and_outcomes"
   ]
  },
  {
   "cell_type": "code",
   "execution_count": 26,
   "metadata": {},
   "outputs": [],
   "source": [
    "#remove observations that did not match to an outcome\n",
    "intakes_and_outcomes.dropna(axis = 0, how = 'all', subset = ['name_y', 'date_of_birth',\n",
    "       'outcome_type', 'outcome_subtype', 'animal_type_y', 'sex_upon_outcome',\n",
    "       'age_upon_outcome', 'breed_y', 'color_y', 'datetime2'], inplace=True )"
   ]
  },
  {
   "cell_type": "code",
   "execution_count": 27,
   "metadata": {},
   "outputs": [],
   "source": [
    "#drop redundent columns \n",
    "#this assumes the animals name, type, breed, and color don't change\n",
    "intakes_and_outcomes.drop(['name_y','animal_type_y','breed_y','color_y'], axis = 1, inplace= True)"
   ]
  },
  {
   "cell_type": "code",
   "execution_count": 28,
   "metadata": {},
   "outputs": [],
   "source": [
    "#rename columns\n",
    "intakes_and_outcomes.rename(columns={\"name_x\":\"name\", \"breed_x\":\"breed\", \"animal_type_x\": \"animal_type\", \"color_x\": \"color\", \"datetime2\": \"release_date\", \"datetime\": \"intake_date\"}, inplace = True)"
   ]
  },
  {
   "cell_type": "code",
   "execution_count": 29,
   "metadata": {},
   "outputs": [
    {
     "data": {
      "text/html": [
       "<div>\n",
       "<style scoped>\n",
       "    .dataframe tbody tr th:only-of-type {\n",
       "        vertical-align: middle;\n",
       "    }\n",
       "\n",
       "    .dataframe tbody tr th {\n",
       "        vertical-align: top;\n",
       "    }\n",
       "\n",
       "    .dataframe thead th {\n",
       "        text-align: right;\n",
       "    }\n",
       "</style>\n",
       "<table border=\"1\" class=\"dataframe\">\n",
       "  <thead>\n",
       "    <tr style=\"text-align: right;\">\n",
       "      <th></th>\n",
       "      <th>animal_id</th>\n",
       "      <th>name</th>\n",
       "      <th>intake_date</th>\n",
       "      <th>found_location</th>\n",
       "      <th>intake_type</th>\n",
       "      <th>intake_condition</th>\n",
       "      <th>animal_type</th>\n",
       "      <th>sex_upon_intake</th>\n",
       "      <th>age_upon_intake</th>\n",
       "      <th>breed</th>\n",
       "      <th>color</th>\n",
       "      <th>date_of_birth</th>\n",
       "      <th>outcome_type</th>\n",
       "      <th>outcome_subtype</th>\n",
       "      <th>sex_upon_outcome</th>\n",
       "      <th>age_upon_outcome</th>\n",
       "      <th>release_date</th>\n",
       "    </tr>\n",
       "  </thead>\n",
       "  <tbody>\n",
       "    <tr>\n",
       "      <th>0</th>\n",
       "      <td>A521520</td>\n",
       "      <td>Nina</td>\n",
       "      <td>2013-10-01 07:51:00</td>\n",
       "      <td>Norht Ec in Austin (TX)</td>\n",
       "      <td>Stray</td>\n",
       "      <td>Normal</td>\n",
       "      <td>Dog</td>\n",
       "      <td>Spayed Female</td>\n",
       "      <td>7 years</td>\n",
       "      <td>Border Terrier/Border Collie</td>\n",
       "      <td>White/Tan</td>\n",
       "      <td>2006-09-07T00:00:00.000</td>\n",
       "      <td>Return to Owner</td>\n",
       "      <td>NaN</td>\n",
       "      <td>Spayed Female</td>\n",
       "      <td>7 years</td>\n",
       "      <td>2013-10-01 15:39:00</td>\n",
       "    </tr>\n",
       "    <tr>\n",
       "      <th>1</th>\n",
       "      <td>A664237</td>\n",
       "      <td>NaN</td>\n",
       "      <td>2013-10-01 08:33:00</td>\n",
       "      <td>Abia in Austin (TX)</td>\n",
       "      <td>Stray</td>\n",
       "      <td>Normal</td>\n",
       "      <td>Cat</td>\n",
       "      <td>Unknown</td>\n",
       "      <td>1 week</td>\n",
       "      <td>Domestic Shorthair Mix</td>\n",
       "      <td>Orange/White</td>\n",
       "      <td>2013-09-24T00:00:00.000</td>\n",
       "      <td>Transfer</td>\n",
       "      <td>Partner</td>\n",
       "      <td>Unknown</td>\n",
       "      <td>1 week</td>\n",
       "      <td>2013-10-01 10:44:00</td>\n",
       "    </tr>\n",
       "    <tr>\n",
       "      <th>2</th>\n",
       "      <td>A664236</td>\n",
       "      <td>NaN</td>\n",
       "      <td>2013-10-01 08:33:00</td>\n",
       "      <td>Abia in Austin (TX)</td>\n",
       "      <td>Stray</td>\n",
       "      <td>Normal</td>\n",
       "      <td>Cat</td>\n",
       "      <td>Unknown</td>\n",
       "      <td>1 week</td>\n",
       "      <td>Domestic Shorthair Mix</td>\n",
       "      <td>Orange/White</td>\n",
       "      <td>2013-09-24T00:00:00.000</td>\n",
       "      <td>Transfer</td>\n",
       "      <td>Partner</td>\n",
       "      <td>Unknown</td>\n",
       "      <td>1 week</td>\n",
       "      <td>2013-10-01 10:44:00</td>\n",
       "    </tr>\n",
       "    <tr>\n",
       "      <th>3</th>\n",
       "      <td>A664235</td>\n",
       "      <td>NaN</td>\n",
       "      <td>2013-10-01 08:33:00</td>\n",
       "      <td>Abia in Austin (TX)</td>\n",
       "      <td>Stray</td>\n",
       "      <td>Normal</td>\n",
       "      <td>Cat</td>\n",
       "      <td>Unknown</td>\n",
       "      <td>1 week</td>\n",
       "      <td>Domestic Shorthair Mix</td>\n",
       "      <td>Orange/White</td>\n",
       "      <td>2013-09-24T00:00:00.000</td>\n",
       "      <td>Transfer</td>\n",
       "      <td>Partner</td>\n",
       "      <td>Unknown</td>\n",
       "      <td>1 week</td>\n",
       "      <td>2013-10-01 10:39:00</td>\n",
       "    </tr>\n",
       "    <tr>\n",
       "      <th>4</th>\n",
       "      <td>A664233</td>\n",
       "      <td>Stevie</td>\n",
       "      <td>2013-10-01 08:53:00</td>\n",
       "      <td>7405 Springtime in Austin (TX)</td>\n",
       "      <td>Stray</td>\n",
       "      <td>Injured</td>\n",
       "      <td>Dog</td>\n",
       "      <td>Intact Female</td>\n",
       "      <td>3 years</td>\n",
       "      <td>Pit Bull Mix</td>\n",
       "      <td>Blue/White</td>\n",
       "      <td>2010-09-30T00:00:00.000</td>\n",
       "      <td>Euthanasia</td>\n",
       "      <td>Suffering</td>\n",
       "      <td>Intact Female</td>\n",
       "      <td>3 years</td>\n",
       "      <td>2013-10-01 15:33:00</td>\n",
       "    </tr>\n",
       "    <tr>\n",
       "      <th>...</th>\n",
       "      <td>...</td>\n",
       "      <td>...</td>\n",
       "      <td>...</td>\n",
       "      <td>...</td>\n",
       "      <td>...</td>\n",
       "      <td>...</td>\n",
       "      <td>...</td>\n",
       "      <td>...</td>\n",
       "      <td>...</td>\n",
       "      <td>...</td>\n",
       "      <td>...</td>\n",
       "      <td>...</td>\n",
       "      <td>...</td>\n",
       "      <td>...</td>\n",
       "      <td>...</td>\n",
       "      <td>...</td>\n",
       "      <td>...</td>\n",
       "    </tr>\n",
       "    <tr>\n",
       "      <th>146075</th>\n",
       "      <td>A869827</td>\n",
       "      <td>NaN</td>\n",
       "      <td>2022-11-26 10:48:00</td>\n",
       "      <td>14201 Layne Loop in Travis (TX)</td>\n",
       "      <td>Stray</td>\n",
       "      <td>Injured</td>\n",
       "      <td>Dog</td>\n",
       "      <td>Intact Male</td>\n",
       "      <td>2 years</td>\n",
       "      <td>Alaskan Malamute Mix</td>\n",
       "      <td>Black/White</td>\n",
       "      <td>2020-11-26T00:00:00.000</td>\n",
       "      <td>Transfer</td>\n",
       "      <td>Partner</td>\n",
       "      <td>Intact Male</td>\n",
       "      <td>2 years</td>\n",
       "      <td>2022-11-28 12:58:00</td>\n",
       "    </tr>\n",
       "    <tr>\n",
       "      <th>146084</th>\n",
       "      <td>A869842</td>\n",
       "      <td>NaN</td>\n",
       "      <td>2022-11-26 14:34:00</td>\n",
       "      <td>7301 N 620 Rd in Austin (TX)</td>\n",
       "      <td>Wildlife</td>\n",
       "      <td>Normal</td>\n",
       "      <td>Other</td>\n",
       "      <td>Unknown</td>\n",
       "      <td>2 years</td>\n",
       "      <td>Bat</td>\n",
       "      <td>Brown/Tan</td>\n",
       "      <td>2020-11-26T00:00:00.000</td>\n",
       "      <td>Euthanasia</td>\n",
       "      <td>Rabies Risk</td>\n",
       "      <td>Unknown</td>\n",
       "      <td>NaN</td>\n",
       "      <td>2022-11-26 16:20:00</td>\n",
       "    </tr>\n",
       "    <tr>\n",
       "      <th>146092</th>\n",
       "      <td>A869902</td>\n",
       "      <td>Vera</td>\n",
       "      <td>2022-11-27 18:19:00</td>\n",
       "      <td>2801 Saul Drive in Travis (TX)</td>\n",
       "      <td>Stray</td>\n",
       "      <td>Normal</td>\n",
       "      <td>Dog</td>\n",
       "      <td>Intact Female</td>\n",
       "      <td>3 years</td>\n",
       "      <td>Great Dane</td>\n",
       "      <td>Black</td>\n",
       "      <td>2019-05-27T00:00:00.000</td>\n",
       "      <td>Return to Owner</td>\n",
       "      <td>NaN</td>\n",
       "      <td>Intact Female</td>\n",
       "      <td>3 years</td>\n",
       "      <td>2022-11-28 11:49:00</td>\n",
       "    </tr>\n",
       "    <tr>\n",
       "      <th>146096</th>\n",
       "      <td>A869919</td>\n",
       "      <td>NaN</td>\n",
       "      <td>2022-11-28 09:54:00</td>\n",
       "      <td>5451 N Ih35 Svrd Sb in Austin (TX)</td>\n",
       "      <td>Stray</td>\n",
       "      <td>Medical</td>\n",
       "      <td>Dog</td>\n",
       "      <td>Intact Male</td>\n",
       "      <td>5 months</td>\n",
       "      <td>Labrador Retriever</td>\n",
       "      <td>White/Gray</td>\n",
       "      <td>2022-06-28T00:00:00.000</td>\n",
       "      <td>NaN</td>\n",
       "      <td>NaN</td>\n",
       "      <td>Intact Male</td>\n",
       "      <td>5 months</td>\n",
       "      <td>2022-11-28 13:00:00</td>\n",
       "    </tr>\n",
       "    <tr>\n",
       "      <th>146110</th>\n",
       "      <td>A869940</td>\n",
       "      <td>NaN</td>\n",
       "      <td>2022-11-28 14:35:00</td>\n",
       "      <td>8350 Bluff Springs Rd in Travis (TX)</td>\n",
       "      <td>Stray</td>\n",
       "      <td>Sick</td>\n",
       "      <td>Cat</td>\n",
       "      <td>Intact Male</td>\n",
       "      <td>3 weeks</td>\n",
       "      <td>Domestic Shorthair Mix</td>\n",
       "      <td>Black</td>\n",
       "      <td>2022-11-04T00:00:00.000</td>\n",
       "      <td>Transfer</td>\n",
       "      <td>Partner</td>\n",
       "      <td>Intact Male</td>\n",
       "      <td>3 weeks</td>\n",
       "      <td>2022-11-28 16:21:00</td>\n",
       "    </tr>\n",
       "  </tbody>\n",
       "</table>\n",
       "<p>144716 rows × 17 columns</p>\n",
       "</div>"
      ],
      "text/plain": [
       "       animal_id    name         intake_date  \\\n",
       "0        A521520    Nina 2013-10-01 07:51:00   \n",
       "1        A664237     NaN 2013-10-01 08:33:00   \n",
       "2        A664236     NaN 2013-10-01 08:33:00   \n",
       "3        A664235     NaN 2013-10-01 08:33:00   \n",
       "4        A664233  Stevie 2013-10-01 08:53:00   \n",
       "...          ...     ...                 ...   \n",
       "146075   A869827     NaN 2022-11-26 10:48:00   \n",
       "146084   A869842     NaN 2022-11-26 14:34:00   \n",
       "146092   A869902    Vera 2022-11-27 18:19:00   \n",
       "146096   A869919     NaN 2022-11-28 09:54:00   \n",
       "146110   A869940     NaN 2022-11-28 14:35:00   \n",
       "\n",
       "                              found_location intake_type intake_condition  \\\n",
       "0                    Norht Ec in Austin (TX)       Stray           Normal   \n",
       "1                        Abia in Austin (TX)       Stray           Normal   \n",
       "2                        Abia in Austin (TX)       Stray           Normal   \n",
       "3                        Abia in Austin (TX)       Stray           Normal   \n",
       "4             7405 Springtime in Austin (TX)       Stray          Injured   \n",
       "...                                      ...         ...              ...   \n",
       "146075       14201 Layne Loop in Travis (TX)       Stray          Injured   \n",
       "146084          7301 N 620 Rd in Austin (TX)    Wildlife           Normal   \n",
       "146092        2801 Saul Drive in Travis (TX)       Stray           Normal   \n",
       "146096    5451 N Ih35 Svrd Sb in Austin (TX)       Stray          Medical   \n",
       "146110  8350 Bluff Springs Rd in Travis (TX)       Stray             Sick   \n",
       "\n",
       "       animal_type sex_upon_intake age_upon_intake  \\\n",
       "0              Dog   Spayed Female         7 years   \n",
       "1              Cat         Unknown          1 week   \n",
       "2              Cat         Unknown          1 week   \n",
       "3              Cat         Unknown          1 week   \n",
       "4              Dog   Intact Female         3 years   \n",
       "...            ...             ...             ...   \n",
       "146075         Dog     Intact Male         2 years   \n",
       "146084       Other         Unknown         2 years   \n",
       "146092         Dog   Intact Female         3 years   \n",
       "146096         Dog     Intact Male        5 months   \n",
       "146110         Cat     Intact Male         3 weeks   \n",
       "\n",
       "                               breed         color            date_of_birth  \\\n",
       "0       Border Terrier/Border Collie     White/Tan  2006-09-07T00:00:00.000   \n",
       "1             Domestic Shorthair Mix  Orange/White  2013-09-24T00:00:00.000   \n",
       "2             Domestic Shorthair Mix  Orange/White  2013-09-24T00:00:00.000   \n",
       "3             Domestic Shorthair Mix  Orange/White  2013-09-24T00:00:00.000   \n",
       "4                       Pit Bull Mix    Blue/White  2010-09-30T00:00:00.000   \n",
       "...                              ...           ...                      ...   \n",
       "146075          Alaskan Malamute Mix   Black/White  2020-11-26T00:00:00.000   \n",
       "146084                           Bat     Brown/Tan  2020-11-26T00:00:00.000   \n",
       "146092                    Great Dane         Black  2019-05-27T00:00:00.000   \n",
       "146096            Labrador Retriever    White/Gray  2022-06-28T00:00:00.000   \n",
       "146110        Domestic Shorthair Mix         Black  2022-11-04T00:00:00.000   \n",
       "\n",
       "           outcome_type outcome_subtype sex_upon_outcome age_upon_outcome  \\\n",
       "0       Return to Owner             NaN    Spayed Female          7 years   \n",
       "1              Transfer         Partner          Unknown           1 week   \n",
       "2              Transfer         Partner          Unknown           1 week   \n",
       "3              Transfer         Partner          Unknown           1 week   \n",
       "4            Euthanasia       Suffering    Intact Female          3 years   \n",
       "...                 ...             ...              ...              ...   \n",
       "146075         Transfer         Partner      Intact Male          2 years   \n",
       "146084       Euthanasia     Rabies Risk          Unknown              NaN   \n",
       "146092  Return to Owner             NaN    Intact Female          3 years   \n",
       "146096              NaN             NaN      Intact Male         5 months   \n",
       "146110         Transfer         Partner      Intact Male          3 weeks   \n",
       "\n",
       "              release_date  \n",
       "0      2013-10-01 15:39:00  \n",
       "1      2013-10-01 10:44:00  \n",
       "2      2013-10-01 10:44:00  \n",
       "3      2013-10-01 10:39:00  \n",
       "4      2013-10-01 15:33:00  \n",
       "...                    ...  \n",
       "146075 2022-11-28 12:58:00  \n",
       "146084 2022-11-26 16:20:00  \n",
       "146092 2022-11-28 11:49:00  \n",
       "146096 2022-11-28 13:00:00  \n",
       "146110 2022-11-28 16:21:00  \n",
       "\n",
       "[144716 rows x 17 columns]"
      ]
     },
     "execution_count": 29,
     "metadata": {},
     "output_type": "execute_result"
    }
   ],
   "source": [
    "intakes_and_outcomes"
   ]
  },
  {
   "cell_type": "markdown",
   "metadata": {},
   "source": [
    "## Initial Plots"
   ]
  },
  {
   "cell_type": "markdown",
   "metadata": {},
   "source": [
    "Now that our dataframe is clean, lets do some analysis."
   ]
  },
  {
   "cell_type": "code",
   "execution_count": 30,
   "metadata": {},
   "outputs": [
    {
     "data": {
      "image/png": "[encoded data removed]",
      "text/plain": [
       "<Figure size 1080x720 with 1 Axes>"
      ]
     },
     "metadata": {
      "needs_background": "light"
     },
     "output_type": "display_data"
    }
   ],
   "source": [
    "import matplotlib as plt\n",
    "import matplotlib.colors as mcolors\n",
    "# fig, axis = plt.subplots()\n",
    "ax = intakes_and_outcomes['animal_type'].value_counts().plot(kind = 'bar', color= mcolors.TABLEAU_COLORS, figsize=(15, 10))\n",
    "ax.set_title(\"Shelter Animals by Type\",fontdict={'fontsize':'30'})\n",
    "ax.set_facecolor('xkcd:grey')\n",
    "ax.tick_params(axis='x', rotation = 45)\n"
   ]
  },
  {
   "cell_type": "markdown",
   "metadata": {},
   "source": [
    "Mostly cats and dogs pass through the shelter, as expected. Theres a smaller number of birds and even less livestock."
   ]
  },
  {
   "cell_type": "markdown",
   "metadata": {},
   "source": [
    "How about breed?"
   ]
  },
  {
   "cell_type": "code",
   "execution_count": 31,
   "metadata": {},
   "outputs": [
    {
     "data": {
      "text/plain": [
       "Domestic Shorthair Mix             32563\n",
       "Domestic Shorthair                 12793\n",
       "Pit Bull Mix                        9158\n",
       "Labrador Retriever Mix              7702\n",
       "Chihuahua Shorthair Mix             6592\n",
       "                                   ...  \n",
       "Labrador Retriever/Bullmastiff         1\n",
       "Brittany/Collie Rough                  1\n",
       "Collie Smooth/Beagle                   1\n",
       "Whippet/Plott Hound                    1\n",
       "Schipperke/Cardigan Welsh Corgi        1\n",
       "Name: breed, Length: 2790, dtype: int64"
      ]
     },
     "execution_count": 31,
     "metadata": {},
     "output_type": "execute_result"
    }
   ],
   "source": [
    "intakes_and_outcomes['breed'].value_counts()"
   ]
  },
  {
   "cell_type": "markdown",
   "metadata": {},
   "source": [
    "Thats a huge amount. Lets look at the top 20 or so."
   ]
  },
  {
   "cell_type": "code",
   "execution_count": 32,
   "metadata": {},
   "outputs": [
    {
     "data": {
      "image/png": "[encoded data removed]",
      "text/plain": [
       "<Figure size 1440x1440 with 1 Axes>"
      ]
     },
     "metadata": {
      "needs_background": "light"
     },
     "output_type": "display_data"
    }
   ],
   "source": [
    "ax = intakes_and_outcomes['breed'].value_counts()[:25].plot(kind = 'bar', color= mcolors.TABLEAU_COLORS, figsize=(20, 20))\n",
    "ax.set_title(\"Top Shelter Breeds\",fontdict={'fontsize':'30'})\n",
    "ax.set_facecolor('xkcd:grey')\n",
    "ax.set_xlabel('Breed', fontsize=18)\n",
    "ax.tick_params(axis='x', rotation = 75, labelsize=15)\n"
   ]
  },
  {
   "cell_type": "markdown",
   "metadata": {},
   "source": [
    "Looks like breeds follows an powerlaw distribution with a handfull of very popular breeds and an extremely long tail of niche eclectic mix breeds. The Domestic Shorthair Mix seems to be a catchall for most cats that come into the shelter. This is followed by some easily identified dog breeds in the Pit Bull, Lab, and Chihuahua. Strangely, bat and \"bat mix\" follow this up in some of the top spots."
   ]
  },
  {
   "cell_type": "markdown",
   "metadata": {},
   "source": [
    "What about intake type and condition?"
   ]
  },
  {
   "cell_type": "code",
   "execution_count": 33,
   "metadata": {},
   "outputs": [
    {
     "data": {
      "image/png": "[encoded data removed]",
      "text/plain": [
       "<Figure size 1440x1080 with 1 Axes>"
      ]
     },
     "metadata": {
      "needs_background": "light"
     },
     "output_type": "display_data"
    }
   ],
   "source": [
    "ax = intakes_and_outcomes['intake_type'].value_counts().plot(kind = 'bar', color= mcolors.TABLEAU_COLORS, figsize=(20, 15))\n",
    "ax.set_title(\"Type of Animal Intakes\",fontdict={'fontsize':'30'})\n",
    "ax.set_facecolor('xkcd:grey')\n",
    "ax.set_xlabel('Type', fontsize=20)\n",
    "ax.tick_params(axis='x', rotation = 45, labelsize=15)\n"
   ]
  },
  {
   "cell_type": "markdown",
   "metadata": {},
   "source": [
    "Mostly Strays followed by surrenders. Not too surprising. Luckily, the Abandoned category seems fairly small relative to the others. "
   ]
  },
  {
   "cell_type": "code",
   "execution_count": 34,
   "metadata": {},
   "outputs": [
    {
     "data": {
      "image/png": "[encoded data removed]",
      "text/plain": [
       "<Figure size 1440x1080 with 1 Axes>"
      ]
     },
     "metadata": {
      "needs_background": "light"
     },
     "output_type": "display_data"
    }
   ],
   "source": [
    "ax = intakes_and_outcomes['intake_condition'].value_counts().plot(kind = 'bar', color= mcolors.TABLEAU_COLORS, figsize=(20, 15))\n",
    "ax.set_title(\"Condition of Animal at Intake\",fontdict={'fontsize':'30'})\n",
    "ax.set_facecolor('xkcd:grey')\n",
    "ax.set_xlabel('Condition', fontsize=20)\n",
    "ax.tick_params(axis='x', rotation = 45, labelsize=15)"
   ]
  },
  {
   "cell_type": "markdown",
   "metadata": {},
   "source": [
    "Another exponential distribution. This time heavily weighted for normal intakes. Most categories are self explanatory. Panleuk refers to a virus that infects cats and agonal refers to dying animals. Thankfully, these are the smallest categories. "
   ]
  },
  {
   "cell_type": "code",
   "execution_count": 35,
   "metadata": {},
   "outputs": [
    {
     "data": {
      "image/png": "[encoded data removed]",
      "text/plain": [
       "<Figure size 720x720 with 1 Axes>"
      ]
     },
     "metadata": {
      "needs_background": "light"
     },
     "output_type": "display_data"
    }
   ],
   "source": [
    "\n",
    "ax = intakes_and_outcomes['sex_upon_intake'].value_counts().plot(kind = 'bar', color= ['xkcd:blue','xkcd:orange','xkcd:kelly green','xkcd:red', 'xkcd:purple']\n",
    ", figsize=(10, 10))\n",
    "ax.set_title(\"Sex of Animal at Intake\",fontdict={'fontsize':'30'})\n",
    "ax.set_facecolor('xkcd:grey')\n",
    "ax.set_xlabel('Sex', fontsize=20)\n",
    "ax.tick_params(axis='x', rotation = 45, labelsize=15)"
   ]
  },
  {
   "cell_type": "code",
   "execution_count": 36,
   "metadata": {},
   "outputs": [
    {
     "data": {
      "image/png": "[encoded data removed]",
      "text/plain": [
       "<Figure size 720x720 with 1 Axes>"
      ]
     },
     "metadata": {
      "needs_background": "light"
     },
     "output_type": "display_data"
    }
   ],
   "source": [
    "ax = intakes_and_outcomes['sex_upon_outcome'].value_counts().plot(kind = 'bar', color= ['xkcd:kelly green','xkcd:red','xkcd:blue','xkcd:orange', 'xkcd:purple'], figsize=(10, 10))\n",
    "ax.set_title(\"Sex of Animal at Outtake\",fontdict={'fontsize':'30'})\n",
    "ax.set_facecolor('xkcd:grey')\n",
    "ax.set_xlabel('Sex', fontsize=20)\n",
    "ax.tick_params(axis='x', rotation = 45, labelsize=15)"
   ]
  },
  {
   "cell_type": "markdown",
   "metadata": {},
   "source": [
    "The intact and fixed columns swap after arriving at the shelter. "
   ]
  },
  {
   "cell_type": "code",
   "execution_count": 37,
   "metadata": {},
   "outputs": [
    {
     "name": "stdout",
     "output_type": "stream",
     "text": [
      "93959 animals have come into the shelter intact\n",
      "29583 of these animals are fixed\n",
      " 31.49 percent animals that pass through are fixed by the shelter\n"
     ]
    }
   ],
   "source": [
    "intact_intakes = (intakes_and_outcomes['sex_upon_intake'] == 'Intact Male').sum() + \\\n",
    "(intakes_and_outcomes['sex_upon_intake'] == 'Intact Female').sum()\n",
    "\n",
    "print( f\"{intact_intakes} animals have come into the shelter intact\")\n",
    "\n",
    "fixed_animals = ((intakes_and_outcomes['sex_upon_intake'] == 'Intact Male') & (intakes_and_outcomes['sex_upon_outcome'] == 'Neutered Male') | (intakes_and_outcomes['sex_upon_intake'] == 'Intact Female') & (intakes_and_outcomes['sex_upon_outcome'] == 'Spayed Male')).sum()\n",
    "print( f\"{fixed_animals} of these animals are fixed\")\n",
    "\n",
    "percent_fixed = (fixed_animals/intact_intakes) * 100\n",
    "print( f\" {round(percent_fixed,2)} percent animals that pass through are fixed by the shelter\")"
   ]
  },
  {
   "cell_type": "code",
   "execution_count": 38,
   "metadata": {},
   "outputs": [
    {
     "data": {
      "image/png": "[encoded data removed]",
      "text/plain": [
       "<Figure size 720x720 with 1 Axes>"
      ]
     },
     "metadata": {
      "needs_background": "light"
     },
     "output_type": "display_data"
    }
   ],
   "source": [
    "ax = intakes_and_outcomes['outcome_type'].value_counts().plot(kind = 'bar', color= mcolors.TABLEAU_COLORS, figsize=(10, 10))\n",
    "ax.set_title(\"Outcome Type\",fontdict={'fontsize':'30'})\n",
    "ax.set_facecolor('xkcd:grey')\n",
    "ax.set_xlabel('Type of Outcome', fontsize=20)\n",
    "ax.tick_params(axis='x', rotation = 45, labelsize=15)"
   ]
  },
  {
   "cell_type": "markdown",
   "metadata": {},
   "source": [
    "Most animals are adopted out or transferred. Rarely, a few animals are lost or stolen. The Austin animal shelter is a \"no-kill\" shelter. Let's look at their rate of euthanasia."
   ]
  },
  {
   "cell_type": "code",
   "execution_count": 39,
   "metadata": {},
   "outputs": [
    {
     "name": "stdout",
     "output_type": "stream",
     "text": [
      " 6.47 percent animals that pass through are euthanized\n"
     ]
    }
   ],
   "source": [
    "euthanasia = (intakes_and_outcomes['outcome_type'] == 'Euthanasia').sum()\n",
    "euthanasia_rate = euthanasia/len(intakes_and_outcomes) * 100\n",
    "print( f\" {round(euthanasia_rate,2)} percent animals that pass through are euthanized\")"
   ]
  },
  {
   "cell_type": "markdown",
   "metadata": {},
   "source": [
    "Theres also subtypes. Lets look at those."
   ]
  },
  {
   "cell_type": "code",
   "execution_count": 40,
   "metadata": {},
   "outputs": [
    {
     "data": {
      "image/png": "[encoded data removed]",
      "text/plain": [
       "<Figure size 1440x720 with 1 Axes>"
      ]
     },
     "metadata": {
      "needs_background": "light"
     },
     "output_type": "display_data"
    }
   ],
   "source": [
    "\n",
    "\n",
    "ax = intakes_and_outcomes['outcome_subtype'].value_counts().plot(kind = 'bar', color= mcolors.TABLEAU_COLORS, figsize=(20, 10))\n",
    "ax.set_title(\"Outcome Subype\",fontdict={'fontsize':'30'})\n",
    "ax.set_facecolor('xkcd:grey')\n",
    "ax.set_xlabel('Subtype', fontsize=20)\n",
    "ax.tick_params(axis='x', rotation = 90, labelsize=15)"
   ]
  },
  {
   "cell_type": "markdown",
   "metadata": {},
   "source": [
    "Mainly transfers to partnering shelters. The other info doesn't seem particularly useful."
   ]
  },
  {
   "cell_type": "markdown",
   "metadata": {},
   "source": [
    "What about color? Let's take a look."
   ]
  },
  {
   "cell_type": "code",
   "execution_count": 41,
   "metadata": {},
   "outputs": [
    {
     "data": {
      "image/png": "[encoded data removed]",
      "text/plain": [
       "<Figure size 1440x720 with 1 Axes>"
      ]
     },
     "metadata": {
      "needs_background": "light"
     },
     "output_type": "display_data"
    }
   ],
   "source": [
    "\n",
    "ax = intakes_and_outcomes['color'].value_counts()[:35].plot(kind = 'bar', color= mcolors.TABLEAU_COLORS, figsize=(20, 10))\n",
    "ax.set_title(\"Color of Animal\",fontdict={'fontsize':'30'})\n",
    "ax.set_facecolor('xkcd:grey')\n",
    "ax.set_xlabel('Color', fontsize=20)\n",
    "ax.tick_params(axis='x', rotation = 90, labelsize=15)"
   ]
  },
  {
   "cell_type": "code",
   "execution_count": 42,
   "metadata": {},
   "outputs": [
    {
     "data": {
      "text/plain": [
       "622"
      ]
     },
     "execution_count": 42,
     "metadata": {},
     "output_type": "execute_result"
    }
   ],
   "source": [
    "len(intakes_and_outcomes['color'].value_counts())"
   ]
  },
  {
   "cell_type": "markdown",
   "metadata": {},
   "source": [
    "This feature is fairly loosely categorized with 622 different colors. Black, White, and Brown keep the top spots. "
   ]
  },
  {
   "cell_type": "markdown",
   "metadata": {},
   "source": [
    "Okay, now that we've looked at most of the features, let's look at some time series information."
   ]
  },
  {
   "cell_type": "markdown",
   "metadata": {},
   "source": [
    "## Time Series"
   ]
  },
  {
   "cell_type": "code",
   "execution_count": 43,
   "metadata": {},
   "outputs": [
    {
     "data": {
      "text/plain": [
       "<AxesSubplot:xlabel='intake_date'>"
      ]
     },
     "execution_count": 43,
     "metadata": {},
     "output_type": "execute_result"
    },
    {
     "data": {
      "image/png": "[encoded data removed]",
      "text/plain": [
       "<Figure size 432x288 with 1 Axes>"
      ]
     },
     "metadata": {
      "needs_background": "light"
     },
     "output_type": "display_data"
    }
   ],
   "source": [
    "intakes_and_outcomes['intake_date'].groupby( intakes_and_outcomes['intake_date'].dt.year).count().plot( kind = 'bar')"
   ]
  },
  {
   "cell_type": "markdown",
   "metadata": {},
   "source": [
    "Intakes have been relatively uniform since 2014. It appears that the pandemic has since lowered intakes almost by half."
   ]
  },
  {
   "cell_type": "code",
   "execution_count": 44,
   "metadata": {},
   "outputs": [
    {
     "data": {
      "text/plain": [
       "<AxesSubplot:xlabel='intake_date'>"
      ]
     },
     "execution_count": 44,
     "metadata": {},
     "output_type": "execute_result"
    },
    {
     "data": {
      "image/png": "[encoded data removed]",
      "text/plain": [
       "<Figure size 432x288 with 1 Axes>"
      ]
     },
     "metadata": {
      "needs_background": "light"
     },
     "output_type": "display_data"
    }
   ],
   "source": [
    "intakes_and_outcomes['intake_date'].groupby( intakes_and_outcomes['intake_date'].dt.month).count().plot( kind = 'bar')"
   ]
  },
  {
   "cell_type": "markdown",
   "metadata": {},
   "source": [
    "There is a seasonal pattern here. Intakes also occur more in the warmer months and drop off at the end/beginning of the year."
   ]
  },
  {
   "cell_type": "code",
   "execution_count": 45,
   "metadata": {},
   "outputs": [
    {
     "data": {
      "text/plain": [
       "<AxesSubplot:xlabel='release_date'>"
      ]
     },
     "execution_count": 45,
     "metadata": {},
     "output_type": "execute_result"
    },
    {
     "data": {
      "image/png": "[encoded data removed]",
      "text/plain": [
       "<Figure size 432x288 with 1 Axes>"
      ]
     },
     "metadata": {
      "needs_background": "light"
     },
     "output_type": "display_data"
    }
   ],
   "source": [
    "intakes_and_outcomes['release_date'].groupby( intakes_and_outcomes['release_date'].dt.year).count().plot( kind = 'bar')"
   ]
  },
  {
   "cell_type": "code",
   "execution_count": 46,
   "metadata": {},
   "outputs": [
    {
     "data": {
      "text/plain": [
       "<AxesSubplot:xlabel='release_date'>"
      ]
     },
     "execution_count": 46,
     "metadata": {},
     "output_type": "execute_result"
    },
    {
     "data": {
      "image/png": "[encoded data removed]",
      "text/plain": [
       "<Figure size 432x288 with 1 Axes>"
      ]
     },
     "metadata": {
      "needs_background": "light"
     },
     "output_type": "display_data"
    }
   ],
   "source": [
    "intakes_and_outcomes['release_date'].groupby( intakes_and_outcomes['release_date'].dt.month).count().plot( kind = 'bar')"
   ]
  },
  {
   "cell_type": "markdown",
   "metadata": {},
   "source": [
    "The same pattern holds for releases as well."
   ]
  },
  {
   "cell_type": "markdown",
   "metadata": {},
   "source": [
    "Let's take a look at the distribution of average time that an animal stays at the shelter."
   ]
  },
  {
   "cell_type": "code",
   "execution_count": 47,
   "metadata": {},
   "outputs": [
    {
     "data": {
      "text/plain": [
       "count                        144716\n",
       "mean     19 days 10:32:13.881395284\n",
       "std      46 days 01:35:02.294800499\n",
       "min                 0 days 00:00:00\n",
       "25%                 1 days 20:56:00\n",
       "50%                 5 days 06:28:30\n",
       "75%                16 days 22:52:15\n",
       "max              1912 days 22:31:00\n",
       "dtype: object"
      ]
     },
     "execution_count": 47,
     "metadata": {},
     "output_type": "execute_result"
    }
   ],
   "source": [
    "(intakes_and_outcomes['release_date'] - intakes_and_outcomes['intake_date']).describe()"
   ]
  },
  {
   "attachments": {},
   "cell_type": "markdown",
   "metadata": {},
   "source": [
    "Lets add this to our dataframe as well. Knowing how long an animal stays at the shelter can give us a lot of information."
   ]
  },
  {
   "cell_type": "code",
   "execution_count": 48,
   "metadata": {},
   "outputs": [],
   "source": [
    "intakes_and_outcomes['time_in_shelter'] = (intakes_and_outcomes['release_date'] - intakes_and_outcomes['intake_date'])"
   ]
  },
  {
   "cell_type": "code",
   "execution_count": 49,
   "metadata": {},
   "outputs": [
    {
     "name": "stdout",
     "output_type": "stream",
     "text": [
      "Longest time an animal has been at the shelter for is: 5.0 years! \n"
     ]
    }
   ],
   "source": [
    "longest_years = intakes_and_outcomes['time_in_shelter'].max().days/365\n",
    "\n",
    "print( f\"Longest time an animal has been at the shelter for is: \\\n",
    "{round(longest_years,0)} years! \")"
   ]
  },
  {
   "cell_type": "code",
   "execution_count": 50,
   "metadata": {},
   "outputs": [
    {
     "data": {
      "text/html": [
       "<div>\n",
       "<style scoped>\n",
       "    .dataframe tbody tr th:only-of-type {\n",
       "        vertical-align: middle;\n",
       "    }\n",
       "\n",
       "    .dataframe tbody tr th {\n",
       "        vertical-align: top;\n",
       "    }\n",
       "\n",
       "    .dataframe thead th {\n",
       "        text-align: right;\n",
       "    }\n",
       "</style>\n",
       "<table border=\"1\" class=\"dataframe\">\n",
       "  <thead>\n",
       "    <tr style=\"text-align: right;\">\n",
       "      <th></th>\n",
       "      <th>animal_id</th>\n",
       "      <th>name</th>\n",
       "      <th>intake_date</th>\n",
       "      <th>found_location</th>\n",
       "      <th>intake_type</th>\n",
       "      <th>intake_condition</th>\n",
       "      <th>animal_type</th>\n",
       "      <th>sex_upon_intake</th>\n",
       "      <th>age_upon_intake</th>\n",
       "      <th>breed</th>\n",
       "      <th>color</th>\n",
       "      <th>date_of_birth</th>\n",
       "      <th>outcome_type</th>\n",
       "      <th>outcome_subtype</th>\n",
       "      <th>sex_upon_outcome</th>\n",
       "      <th>age_upon_outcome</th>\n",
       "      <th>release_date</th>\n",
       "      <th>time_in_shelter</th>\n",
       "    </tr>\n",
       "  </thead>\n",
       "  <tbody>\n",
       "    <tr>\n",
       "      <th>41715</th>\n",
       "      <td>A642712</td>\n",
       "      <td>Patches</td>\n",
       "      <td>2016-01-05 11:37:00</td>\n",
       "      <td>Crownover St And Caleb Dr in Austin (TX)</td>\n",
       "      <td>Stray</td>\n",
       "      <td>Injured</td>\n",
       "      <td>Dog</td>\n",
       "      <td>Spayed Female</td>\n",
       "      <td>6 years</td>\n",
       "      <td>Pit Bull Mix</td>\n",
       "      <td>White/Gray Tiger</td>\n",
       "      <td>2009-11-28T00:00:00.000</td>\n",
       "      <td>Adoption</td>\n",
       "      <td>Foster</td>\n",
       "      <td>Spayed Female</td>\n",
       "      <td>11 years</td>\n",
       "      <td>2021-04-01 10:08:00</td>\n",
       "      <td>1912 days 22:31:00</td>\n",
       "    </tr>\n",
       "  </tbody>\n",
       "</table>\n",
       "</div>"
      ],
      "text/plain": [
       "      animal_id     name         intake_date  \\\n",
       "41715   A642712  Patches 2016-01-05 11:37:00   \n",
       "\n",
       "                                 found_location intake_type intake_condition  \\\n",
       "41715  Crownover St And Caleb Dr in Austin (TX)       Stray          Injured   \n",
       "\n",
       "      animal_type sex_upon_intake age_upon_intake         breed  \\\n",
       "41715         Dog   Spayed Female         6 years  Pit Bull Mix   \n",
       "\n",
       "                  color            date_of_birth outcome_type outcome_subtype  \\\n",
       "41715  White/Gray Tiger  2009-11-28T00:00:00.000     Adoption          Foster   \n",
       "\n",
       "      sex_upon_outcome age_upon_outcome        release_date    time_in_shelter  \n",
       "41715    Spayed Female         11 years 2021-04-01 10:08:00 1912 days 22:31:00  "
      ]
     },
     "execution_count": 50,
     "metadata": {},
     "output_type": "execute_result"
    }
   ],
   "source": [
    "intakes_and_outcomes[ intakes_and_outcomes['time_in_shelter'] == intakes_and_outcomes['time_in_shelter'].max()]"
   ]
  },
  {
   "cell_type": "markdown",
   "metadata": {},
   "source": [
    "Looks like Patches had a hard time but was eventually released to a foster."
   ]
  },
  {
   "cell_type": "markdown",
   "metadata": {},
   "source": [
    "According to Texas Monthly, Patches was eventually adopted by her foster parent last year! More info here: https://www.texasmonthly.com/being-texan/austin-dog-patches-adopted-after-waiting-1913-days/"
   ]
  },
  {
   "cell_type": "code",
   "execution_count": 51,
   "metadata": {},
   "outputs": [
    {
     "data": {
      "text/plain": [
       "<matplotlib.legend.Legend at 0x2a6c97ea3a0>"
      ]
     },
     "execution_count": 51,
     "metadata": {},
     "output_type": "execute_result"
    },
    {
     "data": {
      "image/png": "[encoded data removed]",
      "text/plain": [
       "<Figure size 720x720 with 1 Axes>"
      ]
     },
     "metadata": {
      "needs_background": "light"
     },
     "output_type": "display_data"
    }
   ],
   "source": [
    "ax = (intakes_and_outcomes['time_in_shelter'].astype('timedelta64[s]') / (60**2 * 24)).plot.hist(bins = 2000, xlim = [0, 100],figsize = (10,10), label = \"Histogram of time in shelter\" )\n",
    "ax.set_title('Time of Shelter Stay in Days')\n",
    "#add red line at the median of 5 days\n",
    "plt.pyplot.axvline(x = 5, color = 'red', label = 'Median time of stay')\n",
    "ax.legend()\n"
   ]
  },
  {
   "cell_type": "markdown",
   "metadata": {},
   "source": [
    "The distribution appears to be largely expontential with a relatively large lambda value. However, there also seems to be a cluster around the 5 day mark. Lets look at the distribution of adopted and non-injured pets specifically to see if this affects our distribution of an animal's shelter stay."
   ]
  },
  {
   "cell_type": "code",
   "execution_count": 52,
   "metadata": {},
   "outputs": [
    {
     "data": {
      "text/plain": [
       "<matplotlib.legend.Legend at 0x2a6c7ac9dc0>"
      ]
     },
     "execution_count": 52,
     "metadata": {},
     "output_type": "execute_result"
    },
    {
     "data": {
      "image/png": "[encoded data removed]",
      "text/plain": [
       "<Figure size 720x720 with 1 Axes>"
      ]
     },
     "metadata": {
      "needs_background": "light"
     },
     "output_type": "display_data"
    }
   ],
   "source": [
    "ax = (intakes_and_outcomes[((intakes_and_outcomes['outcome_type'] == 'Adoption')) ]['time_in_shelter'].astype('timedelta64[s]') / (60**2 * 24)).plot.hist(bins = 2000, xlim = [0, 100],figsize = (10,10), label = \"Histogram of time in shelter for adopted animals\" )\n",
    "ax.set_title('Time of Shelter Stay in Days for Adopted Animals')\n",
    "#add red line at the median of 5 days\n",
    "plt.pyplot.axvline(x = 5, color = 'red', label = 'Median time of stay')\n",
    "ax.legend()"
   ]
  },
  {
   "attachments": {},
   "cell_type": "markdown",
   "metadata": {},
   "source": [
    "Considering adoptions only gives us a distribution that looks more normal. Other types of outcomes are like representative of different processes and resolve quickly. For example, dying or euthanized animals would be at the shelter for hours rather than the days of adopted animals. Furthermore, animals returned to their owners or transfered to another facility may only be held for the shelter for a small amount of time. Filtering by animals that are adopted out gives only the information on an average animal's time of stay in the shelter. This allows us to consider how to improve the traditional shelter adoption process without factors that are not always under a shelter's control such as sick or dying animal intakes."
   ]
  },
  {
   "cell_type": "markdown",
   "metadata": {},
   "source": [
    "### For further analysis, let's focus on adoptions of animals."
   ]
  },
  {
   "cell_type": "markdown",
   "metadata": {},
   "source": [
    "From the shelter's point of view, we want to maximize adoptions so focusing on adoption time may give us data with practical value to improve the adoption process."
   ]
  },
  {
   "cell_type": "markdown",
   "metadata": {},
   "source": [
    "## \"Black Dog Syndrome\""
   ]
  },
  {
   "cell_type": "markdown",
   "metadata": {},
   "source": [
    "One anecdotal observation of staff in animal shelters is that black dogs are adopted less often than those with lighter coats. A study of adoption and euthanasia found, using empirical evidence, that Black Dog Syndrome was a real factor in Sacramento County animal adoptions. The study can be found here: https://web.archive.org/web/20100401052756/http://www.animalsandsociety.org/assets/library/78_jaawsleeper.pdf"
   ]
  },
  {
   "cell_type": "markdown",
   "metadata": {},
   "source": [
    "Let's see if their results are reflected in our Austin dataset."
   ]
  },
  {
   "attachments": {},
   "cell_type": "markdown",
   "metadata": {},
   "source": [
    "The 2002 study uses logistic regression to determine differences between euthanasia and adoption between groups of animals. However, the Austin Animal Shelter maintains a \"no-kill\" policy. According to a press release from the shelter (https://www.austintexas.gov/news/austin-animal-center-has-no-more-space-asks-community-help), \"No-kill shelters strive to only euthanize animals who are irremediably suffering or pose a significant public safety threat\" and that \"Austin Animal Center is required by city ordinance to meet or exceed a 95% live outcome rate.\" However, we note that the overall kill rate is higher than 5% as demonstrated above.\n",
    "\n",
    "The original study used logistic regression on animals euthanisized.  However, the Austin's \"no-kill\" policy makes using logistic regression less desirable here as euthanasia is not nessecarily the result of an animal that has been at the shelter a long time. As a result, we will focus on length of stay within the shelter to determine whether an animal is desired by potential adopters. This analysis assumes that these animals were up for adoption throughout their stay at the shelter. Our analysis also seeks to correct errors in methodology in the previous study which assumed that animals were euthanized if they were \"not adopted.\" However, it does not tell us if the shelter euthanized after a constant period an animal remained un-adopted for or if there were other factors that led to euthanasia. For example, an animal that may appear un-adoptable or more aggressive, as determined by shelter staff, may have been euthanasized before other animals. As a result, the original analysis may be a result of biases in the shelter's selection process and not that of those adopting from the shelter. "
   ]
  },
  {
   "cell_type": "code",
   "execution_count": 53,
   "metadata": {},
   "outputs": [
    {
     "data": {
      "text/plain": [
       "Adoption           67121\n",
       "Transfer           41640\n",
       "Return to Owner    23519\n",
       "Euthanasia          9370\n",
       "Died                1328\n",
       "Rto-Adopt            966\n",
       "Disposal             649\n",
       "Missing               72\n",
       "Relocate              23\n",
       "Stolen                 2\n",
       "Lost                   1\n",
       "Name: outcome_type, dtype: int64"
      ]
     },
     "execution_count": 53,
     "metadata": {},
     "output_type": "execute_result"
    }
   ],
   "source": [
    "intakes_and_outcomes['outcome_type'].value_counts()"
   ]
  },
  {
   "cell_type": "markdown",
   "metadata": {},
   "source": [
    "Lets first consider only dogs that were adopted and that had normal status upon arrival. This will filter out cases of injury that may prolong the length of time an animal stayed at the shelter such as Patches"
   ]
  },
  {
   "cell_type": "code",
   "execution_count": 54,
   "metadata": {},
   "outputs": [],
   "source": [
    "BDS = intakes_and_outcomes[(intakes_and_outcomes['outcome_type'] == 'Adoption') & (intakes_and_outcomes['animal_type'] == 'Dog') ]"
   ]
  },
  {
   "cell_type": "code",
   "execution_count": 55,
   "metadata": {},
   "outputs": [
    {
     "data": {
      "text/plain": [
       "39201"
      ]
     },
     "execution_count": 55,
     "metadata": {},
     "output_type": "execute_result"
    }
   ],
   "source": [
    "len(BDS)"
   ]
  },
  {
   "cell_type": "markdown",
   "metadata": {},
   "source": [
    "Now, we will seperate into adopted dogs that have a pure black coat and all others."
   ]
  },
  {
   "cell_type": "code",
   "execution_count": 56,
   "metadata": {},
   "outputs": [
    {
     "data": {
      "text/plain": [
       "count                          1835\n",
       "mean     29 days 17:05:14.125340599\n",
       "std      64 days 04:14:34.789641974\n",
       "min                 0 days 01:19:00\n",
       "25%                 4 days 07:56:00\n",
       "50%                 8 days 08:19:00\n",
       "75%                27 days 18:35:00\n",
       "max              1026 days 21:15:00\n",
       "Name: time_in_shelter, dtype: object"
      ]
     },
     "execution_count": 56,
     "metadata": {},
     "output_type": "execute_result"
    }
   ],
   "source": [
    "BDS[BDS['color'] == 'Black']['time_in_shelter'].describe()"
   ]
  },
  {
   "cell_type": "code",
   "execution_count": 57,
   "metadata": {},
   "outputs": [
    {
     "data": {
      "text/plain": [
       "count                         37366\n",
       "mean     28 days 22:01:05.734089814\n",
       "std      63 days 03:44:19.005190049\n",
       "min                 0 days 00:00:00\n",
       "25%                 4 days 08:58:15\n",
       "50%                 8 days 02:03:00\n",
       "75%                26 days 19:38:00\n",
       "max              1912 days 22:31:00\n",
       "Name: time_in_shelter, dtype: object"
      ]
     },
     "execution_count": 57,
     "metadata": {},
     "output_type": "execute_result"
    }
   ],
   "source": [
    "pd.concat([BDS, BDS[BDS['color'] == 'Black'], BDS[BDS['color'] == 'Black']]).drop_duplicates(keep=False)['time_in_shelter'].describe()"
   ]
  },
  {
   "cell_type": "code",
   "execution_count": null,
   "metadata": {},
   "outputs": [],
   "source": []
  },
  {
   "attachments": {},
   "cell_type": "markdown",
   "metadata": {},
   "source": [
    "Hmm, seems the distributions for these distinct sets of observations appear nearly the same. However, many of the colors within the non-black category may have black patterns or otherwise. For example, a Black/White dog could have an almost entirely black coat. Indeed, there are actually labels for both Black/White and White/Black. Assuming that the first color is the dominant one in the animal's coat, let's see if we can further refine our data."
   ]
  },
  {
   "cell_type": "code",
   "execution_count": 58,
   "metadata": {},
   "outputs": [
    {
     "name": "stdout",
     "output_type": "stream",
     "text": [
      "Black/White        5036\n",
      "Black              1835\n",
      "Black/Tan          1590\n",
      "Black/Brown        1524\n",
      "Black/Tricolor      292\n",
      "Black/Gray           96\n",
      "Black/Red            40\n",
      "Black/Black          34\n",
      "Black/Cream          24\n",
      "Black/Fawn           10\n",
      "Black/Buff            8\n",
      "Black/Silver          6\n",
      "Black/Orange          2\n",
      "Black/Yellow          2\n",
      "Black/Chocolate       2\n",
      "Black/Blue            1\n",
      "Name: color, dtype: int64\n",
      "10502\n"
     ]
    }
   ],
   "source": [
    "#colors in this set\n",
    "# Note regex is used to gather all colors starting with Black but not ending with Black\n",
    "print(BDS[BDS['color'].str.contains('^Black[\\/\\w]*$' , regex=True)]['color'].value_counts())\n",
    "#number of observations\n",
    "print(len(BDS[BDS['color'].str.contains('^Black[\\/\\w]*$' , regex=True)]))"
   ]
  },
  {
   "cell_type": "code",
   "execution_count": 59,
   "metadata": {},
   "outputs": [
    {
     "name": "stdout",
     "output_type": "stream",
     "text": [
      "Brown/White          2257\n",
      "Tan/White            2137\n",
      "White                1725\n",
      "Tan                  1710\n",
      "Tricolor             1601\n",
      "                     ... \n",
      "Black Smoke/Black       1\n",
      "White/Gray Tiger        1\n",
      "Silver/Cream            1\n",
      "Sable/Buff              1\n",
      "Blue/Blue Tick          1\n",
      "Name: color, Length: 294, dtype: int64\n",
      "28699\n"
     ]
    }
   ],
   "source": [
    "#all the other colors of adopted dogs\n",
    "print(pd.concat([BDS, BDS[BDS['color'].str.contains('^Black[\\/\\w]*$' , regex=True)], BDS[BDS['color'].str.contains('^Black[\\/\\w]*$' , regex=True)]]).drop_duplicates(keep=False)['color'].value_counts())\n",
    "#number of observations\n",
    "print(len(pd.concat([BDS, BDS[BDS['color'].str.contains('^Black[\\/\\w]*$' , regex=True)], BDS[BDS['color'].str.contains('^Black[\\/\\w]*$' , regex=True)]]).drop_duplicates(keep=False)['color']))"
   ]
  },
  {
   "cell_type": "code",
   "execution_count": 60,
   "metadata": {},
   "outputs": [
    {
     "data": {
      "text/plain": [
       "count                         10502\n",
       "mean     27 days 18:33:48.705008570\n",
       "std      60 days 06:19:23.458034094\n",
       "min                 0 days 00:49:00\n",
       "25%                 4 days 09:24:45\n",
       "50%                 8 days 00:48:00\n",
       "75%                25 days 04:03:00\n",
       "max              1167 days 19:55:00\n",
       "Name: time_in_shelter, dtype: object"
      ]
     },
     "execution_count": 60,
     "metadata": {},
     "output_type": "execute_result"
    }
   ],
   "source": [
    "BDS[BDS['color'].str.contains('^Black[\\/\\w]*$' , regex=True)]['time_in_shelter'].describe()"
   ]
  },
  {
   "cell_type": "code",
   "execution_count": 61,
   "metadata": {},
   "outputs": [
    {
     "data": {
      "text/plain": [
       "count                         28699\n",
       "mean     29 days 09:17:03.115091118\n",
       "std      64 days 05:47:12.194607745\n",
       "min                 0 days 00:00:00\n",
       "25%                 4 days 08:44:00\n",
       "50%                 8 days 02:41:00\n",
       "75%                27 days 03:50:30\n",
       "max              1912 days 22:31:00\n",
       "Name: time_in_shelter, dtype: object"
      ]
     },
     "execution_count": 61,
     "metadata": {},
     "output_type": "execute_result"
    }
   ],
   "source": [
    "pd.concat([BDS, BDS[BDS['color'].str.contains('^Black[\\/\\w]*$' , regex=True)], BDS[BDS['color'].str.contains('^Black[\\/\\w]*$' , regex=True)]]).drop_duplicates(keep=False)['time_in_shelter'].describe()"
   ]
  },
  {
   "attachments": {},
   "cell_type": "markdown",
   "metadata": {},
   "source": [
    "Even considering dogs that are partially black, we get a similar distribution between both sets. Indeed, the lighter coats actually have a larger mean in this case. However, this seems to be the result of outliers as the medians are within 2 hours of another. "
   ]
  },
  {
   "cell_type": "code",
   "execution_count": 62,
   "metadata": {},
   "outputs": [
    {
     "data": {
      "text/plain": [
       "<matplotlib.legend.Legend at 0x2a6cb662430>"
      ]
     },
     "execution_count": 62,
     "metadata": {},
     "output_type": "execute_result"
    },
    {
     "data": {
      "image/png": "[encoded data removed]",
      "text/plain": [
       "<Figure size 720x720 with 1 Axes>"
      ]
     },
     "metadata": {
      "needs_background": "light"
     },
     "output_type": "display_data"
    }
   ],
   "source": [
    "ax = (pd.concat([BDS, BDS[BDS['color'].str.contains('^Black[\\/\\w]*$' , regex=True)], BDS[BDS['color'].str.contains('^Black[\\/\\w]*$' , regex=True)]]).drop_duplicates(keep=False)['time_in_shelter'].dt.days).plot(kind = \"hist\", bins = 2000, xlim = [0,100], figsize = (10,10), label = \"Histogram of time in shelter for animals with lighter coats\")\n",
    "ax.set_title('Time of Shelter Stay in Days for Animals that Do Not Have Primarly Black Coats')\n",
    "#add red line at the median of 5 days\n",
    "plt.pyplot.axvline(x = 5, color = 'red', label = 'Median time of stay')\n",
    "ax.legend()"
   ]
  },
  {
   "cell_type": "code",
   "execution_count": 63,
   "metadata": {},
   "outputs": [
    {
     "data": {
      "text/plain": [
       "<matplotlib.legend.Legend at 0x2a6cb325d30>"
      ]
     },
     "execution_count": 63,
     "metadata": {},
     "output_type": "execute_result"
    },
    {
     "data": {
      "image/png": "[encoded data removed]",
      "text/plain": [
       "<Figure size 720x720 with 1 Axes>"
      ]
     },
     "metadata": {
      "needs_background": "light"
     },
     "output_type": "display_data"
    }
   ],
   "source": [
    "ax = ( BDS[BDS['color'].str.contains('^Black[\\/\\w]*$' , regex=True)]['time_in_shelter'].dt.days).plot(kind = \"hist\", bins = 1000, xlim = [0,100], figsize = (10,10), label = \"Histogram of time in shelter for animals with primarily black coats\")\n",
    "ax.set_title('Time of Shelter Stay in Days for Animals that have Primarly Black Coats')\n",
    "#add red line at the median of 5 days\n",
    "plt.pyplot.axvline(x = 5, color = 'red', label = 'Median time of stay')\n",
    "ax.legend()"
   ]
  },
  {
   "attachments": {},
   "cell_type": "markdown",
   "metadata": {},
   "source": [
    "The distributions look very similar in all respects except size. Let's perform a Mann-Whitney U rank test to see if there is a significant difference in the means here (just to be sure). Since we are only interested if dogs with primarily black coats are larger than their counterparts, we will use an upper upper test. We are using the Mann-Whitney U rank test since we cannot confidently assume that the distribution is normal here, based on the plots above. "
   ]
  },
  {
   "cell_type": "code",
   "execution_count": 64,
   "metadata": {},
   "outputs": [
    {
     "data": {
      "text/plain": [
       "MannwhitneyuResult(statistic=149511225.5, pvalue=0.8842423151166274)"
      ]
     },
     "execution_count": 64,
     "metadata": {},
     "output_type": "execute_result"
    }
   ],
   "source": [
    "from scipy.stats import mannwhitneyu\n",
    "mannwhitneyu(BDS[BDS['color'].str.contains('^Black[\\/\\w]*$' , regex=True)]['time_in_shelter'].dt.total_seconds()/(60**2 * 24), pd.concat([BDS, BDS[BDS['color'].str.contains('^Black[\\/\\w]*$' , regex=True)], BDS[BDS['color'].str.contains('^Black[\\/\\w]*$' , regex=True)]]).drop_duplicates(keep=False)['time_in_shelter'].dt.total_seconds() / (60**2 * 24), alternative = 'greater' )"
   ]
  },
  {
   "attachments": {},
   "cell_type": "markdown",
   "metadata": {},
   "source": [
    "Due to the very large p-value, we reject the alternate hypothesis that dogs with coats that are primarily black stay in the shelter longer than their counterparts with lighter coats. Therefore, we cannot conclude that those that adopt from the Austin shelter show any predjudice against black or dogs with darker coats."
   ]
  },
  {
   "cell_type": "markdown",
   "metadata": {},
   "source": [
    "While it is referred to as Black Dog Syndrome, some of the underlying theories are due to cultural factors. Similarly, black cats have their own \"Black Cat Syndrome\" as they may be associated with witchcraft and supernatural events. Furthermore, some cultures regard them as bad luck. https://www.history.com/news/black-cats-superstitions"
   ]
  },
  {
   "cell_type": "markdown",
   "metadata": {},
   "source": [
    "Let's perform the same test procedure again, this time for cats within the shelter."
   ]
  }
 ],
 "metadata": {
  "kernelspec": {
   "display_name": "Python 3.9.7 ('base')",
   "language": "python",
   "name": "python3"
  },
  "language_info": {
   "codemirror_mode": {
    "name": "ipython",
    "version": 3
   },
   "file_extension": ".py",
   "mimetype": "text/x-python",
   "name": "python",
   "nbconvert_exporter": "python",
   "pygments_lexer": "ipython3",
   "version": "3.9.7"
  },
  "orig_nbformat": 4,
  "vscode": {
   "interpreter": {
    "hash": "91bb753b057673435fb8d6f6a083e6c818364728098c7ae050ca3a25357dd754"
   }
  }
 },
 "nbformat": 4,
 "nbformat_minor": 2
}
